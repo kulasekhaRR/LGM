{
  "nbformat": 4,
  "nbformat_minor": 0,
  "metadata": {
    "colab": {
      "provenance": [],
      "include_colab_link": true
    },
    "kernelspec": {
      "name": "python3",
      "display_name": "Python 3"
    },
    "language_info": {
      "name": "python"
    }
  },
  "cells": [
    {
      "cell_type": "markdown",
      "metadata": {
        "id": "view-in-github",
        "colab_type": "text"
      },
      "source": [
        "<a href=\"https://colab.research.google.com/github/kulasekhaRR/LGM/blob/main/task2.ipynb\" target=\"_parent\"><img src=\"https://colab.research.google.com/assets/colab-badge.svg\" alt=\"Open In Colab\"/></a>"
      ]
    },
    {
      "cell_type": "markdown",
      "source": [
        "TASK-2 in LGW"
      ],
      "metadata": {
        "id": "xWSNakS0mtZb"
      }
    },
    {
      "cell_type": "markdown",
      "source": [
        "STOCK MARKET FORCASTING "
      ],
      "metadata": {
        "id": "jhqB3RoSuNtM"
      }
    },
    {
      "cell_type": "code",
      "execution_count": null,
      "metadata": {
        "colab": {
          "base_uri": "https://localhost:8080/",
          "height": 206
        },
        "id": "rxsqA_Ocjnqq",
        "outputId": "0d8c2db2-0c8f-4d81-e45e-70fbe0cb9251"
      },
      "outputs": [
        {
          "output_type": "execute_result",
          "data": {
            "text/plain": [
              "         Date    Open    High     Low    Last   Close  Total Trade Quantity  \\\n",
              "0  2018-09-28  234.05  235.95  230.20  233.50  233.75               3069914   \n",
              "1  2018-09-27  234.55  236.80  231.10  233.80  233.25               5082859   \n",
              "2  2018-09-26  240.00  240.00  232.50  235.00  234.25               2240909   \n",
              "3  2018-09-25  233.30  236.75  232.00  236.25  236.10               2349368   \n",
              "4  2018-09-24  233.55  239.20  230.75  234.00  233.30               3423509   \n",
              "\n",
              "   Turnover (Lacs)  \n",
              "0          7162.35  \n",
              "1         11859.95  \n",
              "2          5248.60  \n",
              "3          5503.90  \n",
              "4          7999.55  "
            ],
            "text/html": [
              "\n",
              "  <div id=\"df-55035733-5ca2-40aa-9b36-8142c7ca8582\">\n",
              "    <div class=\"colab-df-container\">\n",
              "      <div>\n",
              "<style scoped>\n",
              "    .dataframe tbody tr th:only-of-type {\n",
              "        vertical-align: middle;\n",
              "    }\n",
              "\n",
              "    .dataframe tbody tr th {\n",
              "        vertical-align: top;\n",
              "    }\n",
              "\n",
              "    .dataframe thead th {\n",
              "        text-align: right;\n",
              "    }\n",
              "</style>\n",
              "<table border=\"1\" class=\"dataframe\">\n",
              "  <thead>\n",
              "    <tr style=\"text-align: right;\">\n",
              "      <th></th>\n",
              "      <th>Date</th>\n",
              "      <th>Open</th>\n",
              "      <th>High</th>\n",
              "      <th>Low</th>\n",
              "      <th>Last</th>\n",
              "      <th>Close</th>\n",
              "      <th>Total Trade Quantity</th>\n",
              "      <th>Turnover (Lacs)</th>\n",
              "    </tr>\n",
              "  </thead>\n",
              "  <tbody>\n",
              "    <tr>\n",
              "      <th>0</th>\n",
              "      <td>2018-09-28</td>\n",
              "      <td>234.05</td>\n",
              "      <td>235.95</td>\n",
              "      <td>230.20</td>\n",
              "      <td>233.50</td>\n",
              "      <td>233.75</td>\n",
              "      <td>3069914</td>\n",
              "      <td>7162.35</td>\n",
              "    </tr>\n",
              "    <tr>\n",
              "      <th>1</th>\n",
              "      <td>2018-09-27</td>\n",
              "      <td>234.55</td>\n",
              "      <td>236.80</td>\n",
              "      <td>231.10</td>\n",
              "      <td>233.80</td>\n",
              "      <td>233.25</td>\n",
              "      <td>5082859</td>\n",
              "      <td>11859.95</td>\n",
              "    </tr>\n",
              "    <tr>\n",
              "      <th>2</th>\n",
              "      <td>2018-09-26</td>\n",
              "      <td>240.00</td>\n",
              "      <td>240.00</td>\n",
              "      <td>232.50</td>\n",
              "      <td>235.00</td>\n",
              "      <td>234.25</td>\n",
              "      <td>2240909</td>\n",
              "      <td>5248.60</td>\n",
              "    </tr>\n",
              "    <tr>\n",
              "      <th>3</th>\n",
              "      <td>2018-09-25</td>\n",
              "      <td>233.30</td>\n",
              "      <td>236.75</td>\n",
              "      <td>232.00</td>\n",
              "      <td>236.25</td>\n",
              "      <td>236.10</td>\n",
              "      <td>2349368</td>\n",
              "      <td>5503.90</td>\n",
              "    </tr>\n",
              "    <tr>\n",
              "      <th>4</th>\n",
              "      <td>2018-09-24</td>\n",
              "      <td>233.55</td>\n",
              "      <td>239.20</td>\n",
              "      <td>230.75</td>\n",
              "      <td>234.00</td>\n",
              "      <td>233.30</td>\n",
              "      <td>3423509</td>\n",
              "      <td>7999.55</td>\n",
              "    </tr>\n",
              "  </tbody>\n",
              "</table>\n",
              "</div>\n",
              "      <button class=\"colab-df-convert\" onclick=\"convertToInteractive('df-55035733-5ca2-40aa-9b36-8142c7ca8582')\"\n",
              "              title=\"Convert this dataframe to an interactive table.\"\n",
              "              style=\"display:none;\">\n",
              "        \n",
              "  <svg xmlns=\"http://www.w3.org/2000/svg\" height=\"24px\"viewBox=\"0 0 24 24\"\n",
              "       width=\"24px\">\n",
              "    <path d=\"M0 0h24v24H0V0z\" fill=\"none\"/>\n",
              "    <path d=\"M18.56 5.44l.94 2.06.94-2.06 2.06-.94-2.06-.94-.94-2.06-.94 2.06-2.06.94zm-11 1L8.5 8.5l.94-2.06 2.06-.94-2.06-.94L8.5 2.5l-.94 2.06-2.06.94zm10 10l.94 2.06.94-2.06 2.06-.94-2.06-.94-.94-2.06-.94 2.06-2.06.94z\"/><path d=\"M17.41 7.96l-1.37-1.37c-.4-.4-.92-.59-1.43-.59-.52 0-1.04.2-1.43.59L10.3 9.45l-7.72 7.72c-.78.78-.78 2.05 0 2.83L4 21.41c.39.39.9.59 1.41.59.51 0 1.02-.2 1.41-.59l7.78-7.78 2.81-2.81c.8-.78.8-2.07 0-2.86zM5.41 20L4 18.59l7.72-7.72 1.47 1.35L5.41 20z\"/>\n",
              "  </svg>\n",
              "      </button>\n",
              "      \n",
              "  <style>\n",
              "    .colab-df-container {\n",
              "      display:flex;\n",
              "      flex-wrap:wrap;\n",
              "      gap: 12px;\n",
              "    }\n",
              "\n",
              "    .colab-df-convert {\n",
              "      background-color: #E8F0FE;\n",
              "      border: none;\n",
              "      border-radius: 50%;\n",
              "      cursor: pointer;\n",
              "      display: none;\n",
              "      fill: #1967D2;\n",
              "      height: 32px;\n",
              "      padding: 0 0 0 0;\n",
              "      width: 32px;\n",
              "    }\n",
              "\n",
              "    .colab-df-convert:hover {\n",
              "      background-color: #E2EBFA;\n",
              "      box-shadow: 0px 1px 2px rgba(60, 64, 67, 0.3), 0px 1px 3px 1px rgba(60, 64, 67, 0.15);\n",
              "      fill: #174EA6;\n",
              "    }\n",
              "\n",
              "    [theme=dark] .colab-df-convert {\n",
              "      background-color: #3B4455;\n",
              "      fill: #D2E3FC;\n",
              "    }\n",
              "\n",
              "    [theme=dark] .colab-df-convert:hover {\n",
              "      background-color: #434B5C;\n",
              "      box-shadow: 0px 1px 3px 1px rgba(0, 0, 0, 0.15);\n",
              "      filter: drop-shadow(0px 1px 2px rgba(0, 0, 0, 0.3));\n",
              "      fill: #FFFFFF;\n",
              "    }\n",
              "  </style>\n",
              "\n",
              "      <script>\n",
              "        const buttonEl =\n",
              "          document.querySelector('#df-55035733-5ca2-40aa-9b36-8142c7ca8582 button.colab-df-convert');\n",
              "        buttonEl.style.display =\n",
              "          google.colab.kernel.accessAllowed ? 'block' : 'none';\n",
              "\n",
              "        async function convertToInteractive(key) {\n",
              "          const element = document.querySelector('#df-55035733-5ca2-40aa-9b36-8142c7ca8582');\n",
              "          const dataTable =\n",
              "            await google.colab.kernel.invokeFunction('convertToInteractive',\n",
              "                                                     [key], {});\n",
              "          if (!dataTable) return;\n",
              "\n",
              "          const docLinkHtml = 'Like what you see? Visit the ' +\n",
              "            '<a target=\"_blank\" href=https://colab.research.google.com/notebooks/data_table.ipynb>data table notebook</a>'\n",
              "            + ' to learn more about interactive tables.';\n",
              "          element.innerHTML = '';\n",
              "          dataTable['output_type'] = 'display_data';\n",
              "          await google.colab.output.renderOutput(dataTable, element);\n",
              "          const docLink = document.createElement('div');\n",
              "          docLink.innerHTML = docLinkHtml;\n",
              "          element.appendChild(docLink);\n",
              "        }\n",
              "      </script>\n",
              "    </div>\n",
              "  </div>\n",
              "  "
            ]
          },
          "metadata": {},
          "execution_count": 5
        }
      ],
      "source": [
        "#loading csv file\n",
        "import pandas_datareader as pdr\n",
        "key=\"\"\n",
        "#df = pdr.get_data_tiingo('https://raw.githubusercontent.com/mwitiderrick/stockprice/master/NSE-TATAGLOBAL.csv', api_key=key)\n",
        "#df.to_csv('https://raw.githubusercontent.com/mwitiderrick/stockprice/master/NSE-TATAGLOBAL.csv')\n",
        "import pandas as pd\n",
        "kuladf=pd.read_csv('https://raw.githubusercontent.com/mwitiderrick/stockprice/master/NSE-TATAGLOBAL.csv')\n",
        "kuladf.head()"
      ]
    },
    {
      "cell_type": "code",
      "source": [
        "kuladf.tail()"
      ],
      "metadata": {
        "colab": {
          "base_uri": "https://localhost:8080/",
          "height": 206
        },
        "id": "a85o9DMOkXUq",
        "outputId": "4a32833a-7b1a-446c-b07e-a9ab9a08242d"
      },
      "execution_count": null,
      "outputs": [
        {
          "output_type": "execute_result",
          "data": {
            "text/plain": [
              "            Date   Open    High     Low    Last   Close  Total Trade Quantity  \\\n",
              "2030  2010-07-27  117.6  119.50  112.00  118.80  118.65                586100   \n",
              "2031  2010-07-26  120.1  121.00  117.10  117.10  117.60                658440   \n",
              "2032  2010-07-23  121.8  121.95  120.25  120.35  120.65                281312   \n",
              "2033  2010-07-22  120.3  122.00  120.25  120.75  120.90                293312   \n",
              "2034  2010-07-21  122.1  123.00  121.05  121.10  121.55                658666   \n",
              "\n",
              "      Turnover (Lacs)  \n",
              "2030           694.98  \n",
              "2031           780.01  \n",
              "2032           340.31  \n",
              "2033           355.17  \n",
              "2034           803.56  "
            ],
            "text/html": [
              "\n",
              "  <div id=\"df-3c435405-25c2-4e76-9d65-19d0c75067fb\">\n",
              "    <div class=\"colab-df-container\">\n",
              "      <div>\n",
              "<style scoped>\n",
              "    .dataframe tbody tr th:only-of-type {\n",
              "        vertical-align: middle;\n",
              "    }\n",
              "\n",
              "    .dataframe tbody tr th {\n",
              "        vertical-align: top;\n",
              "    }\n",
              "\n",
              "    .dataframe thead th {\n",
              "        text-align: right;\n",
              "    }\n",
              "</style>\n",
              "<table border=\"1\" class=\"dataframe\">\n",
              "  <thead>\n",
              "    <tr style=\"text-align: right;\">\n",
              "      <th></th>\n",
              "      <th>Date</th>\n",
              "      <th>Open</th>\n",
              "      <th>High</th>\n",
              "      <th>Low</th>\n",
              "      <th>Last</th>\n",
              "      <th>Close</th>\n",
              "      <th>Total Trade Quantity</th>\n",
              "      <th>Turnover (Lacs)</th>\n",
              "    </tr>\n",
              "  </thead>\n",
              "  <tbody>\n",
              "    <tr>\n",
              "      <th>2030</th>\n",
              "      <td>2010-07-27</td>\n",
              "      <td>117.6</td>\n",
              "      <td>119.50</td>\n",
              "      <td>112.00</td>\n",
              "      <td>118.80</td>\n",
              "      <td>118.65</td>\n",
              "      <td>586100</td>\n",
              "      <td>694.98</td>\n",
              "    </tr>\n",
              "    <tr>\n",
              "      <th>2031</th>\n",
              "      <td>2010-07-26</td>\n",
              "      <td>120.1</td>\n",
              "      <td>121.00</td>\n",
              "      <td>117.10</td>\n",
              "      <td>117.10</td>\n",
              "      <td>117.60</td>\n",
              "      <td>658440</td>\n",
              "      <td>780.01</td>\n",
              "    </tr>\n",
              "    <tr>\n",
              "      <th>2032</th>\n",
              "      <td>2010-07-23</td>\n",
              "      <td>121.8</td>\n",
              "      <td>121.95</td>\n",
              "      <td>120.25</td>\n",
              "      <td>120.35</td>\n",
              "      <td>120.65</td>\n",
              "      <td>281312</td>\n",
              "      <td>340.31</td>\n",
              "    </tr>\n",
              "    <tr>\n",
              "      <th>2033</th>\n",
              "      <td>2010-07-22</td>\n",
              "      <td>120.3</td>\n",
              "      <td>122.00</td>\n",
              "      <td>120.25</td>\n",
              "      <td>120.75</td>\n",
              "      <td>120.90</td>\n",
              "      <td>293312</td>\n",
              "      <td>355.17</td>\n",
              "    </tr>\n",
              "    <tr>\n",
              "      <th>2034</th>\n",
              "      <td>2010-07-21</td>\n",
              "      <td>122.1</td>\n",
              "      <td>123.00</td>\n",
              "      <td>121.05</td>\n",
              "      <td>121.10</td>\n",
              "      <td>121.55</td>\n",
              "      <td>658666</td>\n",
              "      <td>803.56</td>\n",
              "    </tr>\n",
              "  </tbody>\n",
              "</table>\n",
              "</div>\n",
              "      <button class=\"colab-df-convert\" onclick=\"convertToInteractive('df-3c435405-25c2-4e76-9d65-19d0c75067fb')\"\n",
              "              title=\"Convert this dataframe to an interactive table.\"\n",
              "              style=\"display:none;\">\n",
              "        \n",
              "  <svg xmlns=\"http://www.w3.org/2000/svg\" height=\"24px\"viewBox=\"0 0 24 24\"\n",
              "       width=\"24px\">\n",
              "    <path d=\"M0 0h24v24H0V0z\" fill=\"none\"/>\n",
              "    <path d=\"M18.56 5.44l.94 2.06.94-2.06 2.06-.94-2.06-.94-.94-2.06-.94 2.06-2.06.94zm-11 1L8.5 8.5l.94-2.06 2.06-.94-2.06-.94L8.5 2.5l-.94 2.06-2.06.94zm10 10l.94 2.06.94-2.06 2.06-.94-2.06-.94-.94-2.06-.94 2.06-2.06.94z\"/><path d=\"M17.41 7.96l-1.37-1.37c-.4-.4-.92-.59-1.43-.59-.52 0-1.04.2-1.43.59L10.3 9.45l-7.72 7.72c-.78.78-.78 2.05 0 2.83L4 21.41c.39.39.9.59 1.41.59.51 0 1.02-.2 1.41-.59l7.78-7.78 2.81-2.81c.8-.78.8-2.07 0-2.86zM5.41 20L4 18.59l7.72-7.72 1.47 1.35L5.41 20z\"/>\n",
              "  </svg>\n",
              "      </button>\n",
              "      \n",
              "  <style>\n",
              "    .colab-df-container {\n",
              "      display:flex;\n",
              "      flex-wrap:wrap;\n",
              "      gap: 12px;\n",
              "    }\n",
              "\n",
              "    .colab-df-convert {\n",
              "      background-color: #E8F0FE;\n",
              "      border: none;\n",
              "      border-radius: 50%;\n",
              "      cursor: pointer;\n",
              "      display: none;\n",
              "      fill: #1967D2;\n",
              "      height: 32px;\n",
              "      padding: 0 0 0 0;\n",
              "      width: 32px;\n",
              "    }\n",
              "\n",
              "    .colab-df-convert:hover {\n",
              "      background-color: #E2EBFA;\n",
              "      box-shadow: 0px 1px 2px rgba(60, 64, 67, 0.3), 0px 1px 3px 1px rgba(60, 64, 67, 0.15);\n",
              "      fill: #174EA6;\n",
              "    }\n",
              "\n",
              "    [theme=dark] .colab-df-convert {\n",
              "      background-color: #3B4455;\n",
              "      fill: #D2E3FC;\n",
              "    }\n",
              "\n",
              "    [theme=dark] .colab-df-convert:hover {\n",
              "      background-color: #434B5C;\n",
              "      box-shadow: 0px 1px 3px 1px rgba(0, 0, 0, 0.15);\n",
              "      filter: drop-shadow(0px 1px 2px rgba(0, 0, 0, 0.3));\n",
              "      fill: #FFFFFF;\n",
              "    }\n",
              "  </style>\n",
              "\n",
              "      <script>\n",
              "        const buttonEl =\n",
              "          document.querySelector('#df-3c435405-25c2-4e76-9d65-19d0c75067fb button.colab-df-convert');\n",
              "        buttonEl.style.display =\n",
              "          google.colab.kernel.accessAllowed ? 'block' : 'none';\n",
              "\n",
              "        async function convertToInteractive(key) {\n",
              "          const element = document.querySelector('#df-3c435405-25c2-4e76-9d65-19d0c75067fb');\n",
              "          const dataTable =\n",
              "            await google.colab.kernel.invokeFunction('convertToInteractive',\n",
              "                                                     [key], {});\n",
              "          if (!dataTable) return;\n",
              "\n",
              "          const docLinkHtml = 'Like what you see? Visit the ' +\n",
              "            '<a target=\"_blank\" href=https://colab.research.google.com/notebooks/data_table.ipynb>data table notebook</a>'\n",
              "            + ' to learn more about interactive tables.';\n",
              "          element.innerHTML = '';\n",
              "          dataTable['output_type'] = 'display_data';\n",
              "          await google.colab.output.renderOutput(dataTable, element);\n",
              "          const docLink = document.createElement('div');\n",
              "          docLink.innerHTML = docLinkHtml;\n",
              "          element.appendChild(docLink);\n",
              "        }\n",
              "      </script>\n",
              "    </div>\n",
              "  </div>\n",
              "  "
            ]
          },
          "metadata": {},
          "execution_count": 6
        }
      ]
    },
    {
      "cell_type": "code",
      "source": [
        "kuladf1=kuladf.reset_index()['Close']\n",
        "kuladf1"
      ],
      "metadata": {
        "colab": {
          "base_uri": "https://localhost:8080/"
        },
        "id": "mUpZZnARlHU3",
        "outputId": "a4a3a096-d4ac-4ee9-a4c4-44ec3c41e86a"
      },
      "execution_count": null,
      "outputs": [
        {
          "output_type": "execute_result",
          "data": {
            "text/plain": [
              "0       233.75\n",
              "1       233.25\n",
              "2       234.25\n",
              "3       236.10\n",
              "4       233.30\n",
              "         ...  \n",
              "2030    118.65\n",
              "2031    117.60\n",
              "2032    120.65\n",
              "2033    120.90\n",
              "2034    121.55\n",
              "Name: Close, Length: 2035, dtype: float64"
            ]
          },
          "metadata": {},
          "execution_count": 8
        }
      ]
    },
    {
      "cell_type": "code",
      "source": [
        "#plotting using matplotlib\n",
        "import matplotlib.pyplot as plt\n",
        "plt.plot(kuladf1)"
      ],
      "metadata": {
        "colab": {
          "base_uri": "https://localhost:8080/",
          "height": 282
        },
        "id": "TTqkfdSvlLSn",
        "outputId": "07cb6f43-0b00-4a22-e7a6-7c033877e202"
      },
      "execution_count": null,
      "outputs": [
        {
          "output_type": "execute_result",
          "data": {
            "text/plain": [
              "[<matplotlib.lines.Line2D at 0x7f96a0799340>]"
            ]
          },
          "metadata": {},
          "execution_count": 9
        },
        {
          "output_type": "display_data",
          "data": {
            "text/plain": [
              "<Figure size 432x288 with 1 Axes>"
            ],
            "image/png": "[encoded data removed]"
          },
          "metadata": {
            "needs_background": "light"
          }
        }
      ]
    },
    {
      "cell_type": "code",
      "source": [
        "import numpy as np\n",
        "kuladf1"
      ],
      "metadata": {
        "colab": {
          "base_uri": "https://localhost:8080/"
        },
        "id": "EIRvj6GilYKf",
        "outputId": "89713c34-6206-4279-9af5-2205f49219ea"
      },
      "execution_count": null,
      "outputs": [
        {
          "output_type": "execute_result",
          "data": {
            "text/plain": [
              "0       233.75\n",
              "1       233.25\n",
              "2       234.25\n",
              "3       236.10\n",
              "4       233.30\n",
              "         ...  \n",
              "2030    118.65\n",
              "2031    117.60\n",
              "2032    120.65\n",
              "2033    120.90\n",
              "2034    121.55\n",
              "Name: Close, Length: 2035, dtype: float64"
            ]
          },
          "metadata": {},
          "execution_count": 10
        }
      ]
    },
    {
      "cell_type": "code",
      "source": [
        "#fitting the model using minmaxscaler\n",
        "from sklearn.preprocessing import MinMaxScaler\n",
        "scaler=MinMaxScaler(feature_range=(0,1))\n",
        "kuladf1=scaler.fit_transform(np.array(kuladf1).reshape(-1,1))\n",
        "print(kuladf1)"
      ],
      "metadata": {
        "colab": {
          "base_uri": "https://localhost:8080/"
        },
        "id": "u8o5RQ_VlcBv",
        "outputId": "f2e7007e-6c65-46c0-c642-36a096da3608"
      },
      "execution_count": null,
      "outputs": [
        {
          "output_type": "stream",
          "name": "stdout",
          "text": [
            "[[0.62418301]\n",
            " [0.62214052]\n",
            " [0.62622549]\n",
            " ...\n",
            " [0.1621732 ]\n",
            " [0.16319444]\n",
            " [0.16584967]]\n"
          ]
        }
      ]
    },
    {
      "cell_type": "code",
      "source": [
        "##splitting dataset into train and test split\n",
        "training_size=int(len(kuladf1)*0.65)\n",
        "test_size=len(kuladf1)-training_size\n",
        "train_data,test_data=kuladf1[0:training_size,:],kuladf1[training_size:len(kuladf1),:1]\n",
        "training_size,test_size\n"
      ],
      "metadata": {
        "colab": {
          "base_uri": "https://localhost:8080/"
        },
        "id": "LJmAbFaWleo5",
        "outputId": "20c4fac0-0902-4ae2-92af-d4450a9ac00f"
      },
      "execution_count": null,
      "outputs": [
        {
          "output_type": "execute_result",
          "data": {
            "text/plain": [
              "(1322, 713)"
            ]
          },
          "metadata": {},
          "execution_count": 12
        }
      ]
    },
    {
      "cell_type": "code",
      "source": [
        "train_data"
      ],
      "metadata": {
        "colab": {
          "base_uri": "https://localhost:8080/"
        },
        "id": "eCsHDJR1ljBh",
        "outputId": "4315aea0-9ed5-48e6-9870-31afdcbde948"
      },
      "execution_count": null,
      "outputs": [
        {
          "output_type": "execute_result",
          "data": {
            "text/plain": [
              "array([[0.62418301],\n",
              "       [0.62214052],\n",
              "       [0.62622549],\n",
              "       ...,\n",
              "       [0.25347222],\n",
              "       [0.26041667],\n",
              "       [0.2563317 ]])"
            ]
          },
          "metadata": {},
          "execution_count": 13
        }
      ]
    },
    {
      "cell_type": "code",
      "source": [
        "import numpy\n",
        "# convert an array of values into a dataset matrix\n",
        "def create_dataset(dataset, time_step=1):\n",
        "\tdatax, datay = [], []\n",
        "\tfor i in range(len(dataset)-time_step-1):\n",
        "\t\ta = dataset[i:(i+time_step), 0]   ###i=0, 0,1,2,3-----99   100 \n",
        "\t\tdatax.append(a)\n",
        "\t\tdatay.append(dataset[i + time_step, 0])\n",
        "\treturn numpy.array(datax), numpy.array(datay)"
      ],
      "metadata": {
        "id": "RCS2sCenlk5l"
      },
      "execution_count": null,
      "outputs": []
    },
    {
      "cell_type": "code",
      "source": [
        "# reshape into X=t,t+1,t+2,t+3 and Y=t+4\n",
        "time_step = 100\n",
        "X_train, y_train = create_dataset(train_data, time_step)\n",
        "X_test, ytest = create_dataset(test_data, time_step)"
      ],
      "metadata": {
        "id": "Q1ed6Qt7lpct"
      },
      "execution_count": null,
      "outputs": []
    },
    {
      "cell_type": "code",
      "source": [
        "print(X_train.shape), print(y_train.shape)"
      ],
      "metadata": {
        "colab": {
          "base_uri": "https://localhost:8080/"
        },
        "id": "DuLK1-7slssk",
        "outputId": "9c09c238-76a7-4f01-eb65-4b036de230a1"
      },
      "execution_count": null,
      "outputs": [
        {
          "output_type": "stream",
          "name": "stdout",
          "text": [
            "(1221, 100)\n",
            "(1221,)\n"
          ]
        },
        {
          "output_type": "execute_result",
          "data": {
            "text/plain": [
              "(None, None)"
            ]
          },
          "metadata": {},
          "execution_count": 16
        }
      ]
    },
    {
      "cell_type": "code",
      "source": [
        "print(X_test.shape), print(ytest.shape)"
      ],
      "metadata": {
        "colab": {
          "base_uri": "https://localhost:8080/"
        },
        "id": "YC_N4UcblvCu",
        "outputId": "8a1eae55-078e-4f0b-beb3-9c25efcee60e"
      },
      "execution_count": null,
      "outputs": [
        {
          "output_type": "stream",
          "name": "stdout",
          "text": [
            "(612, 100)\n",
            "(612,)\n"
          ]
        },
        {
          "output_type": "execute_result",
          "data": {
            "text/plain": [
              "(None, None)"
            ]
          },
          "metadata": {},
          "execution_count": 17
        }
      ]
    },
    {
      "cell_type": "code",
      "source": [
        "# reshape input to be [samples, time steps, features] which is required for LSTM\n",
        "X_train =X_train.reshape(X_train.shape[0],X_train.shape[1] , 1)\n",
        "X_test = X_test.reshape(X_test.shape[0],X_test.shape[1] , 1)\n",
        "### Create the Stacked LSTM model\n",
        "from tensorflow.keras.models import Sequential\n",
        "from tensorflow.keras.layers import Dense\n",
        "from tensorflow.keras.layers import LSTM\n",
        "model=Sequential()\n",
        "model.add(LSTM(50,return_sequences=True,input_shape=(100,1)))\n",
        "model.add(LSTM(50,return_sequences=True))\n",
        "model.add(LSTM(50))\n",
        "model.add(Dense(1))\n",
        "model.compile(loss='mean_squared_error',optimizer='adam')"
      ],
      "metadata": {
        "id": "2BF7emW6lxJX"
      },
      "execution_count": null,
      "outputs": []
    },
    {
      "cell_type": "code",
      "source": [
        "model.summary()"
      ],
      "metadata": {
        "colab": {
          "base_uri": "https://localhost:8080/"
        },
        "id": "PSg0jjqTl5Ap",
        "outputId": "5f33a19f-cefa-4335-b384-7f24f67cba18"
      },
      "execution_count": null,
      "outputs": [
        {
          "output_type": "stream",
          "name": "stdout",
          "text": [
            "Model: \"sequential\"\n",
            "_________________________________________________________________\n",
            " Layer (type)                Output Shape              Param #   \n",
            "=================================================================\n",
            " lstm (LSTM)                 (None, 100, 50)           10400     \n",
            "                                                                 \n",
            " lstm_1 (LSTM)               (None, 100, 50)           20200     \n",
            "                                                                 \n",
            " lstm_2 (LSTM)               (None, 50)                20200     \n",
            "                                                                 \n",
            " dense (Dense)               (None, 1)                 51        \n",
            "                                                                 \n",
            "=================================================================\n",
            "Total params: 50,851\n",
            "Trainable params: 50,851\n",
            "Non-trainable params: 0\n",
            "_________________________________________________________________\n"
          ]
        }
      ]
    },
    {
      "cell_type": "code",
      "source": [
        "model.fit(X_train,y_train,validation_data=(X_test,ytest),epochs=100,batch_size=64,verbose=1)"
      ],
      "metadata": {
        "colab": {
          "base_uri": "https://localhost:8080/"
        },
        "id": "cQmGk1Gwl5m_",
        "outputId": "f759948b-9962-49c1-b5d9-2faea104a67a"
      },
      "execution_count": null,
      "outputs": [
        {
          "output_type": "stream",
          "name": "stdout",
          "text": [
            "Epoch 1/100\n",
            "20/20 [==============================] - 17s 434ms/step - loss: 0.0327 - val_loss: 0.0033\n",
            "Epoch 2/100\n",
            "20/20 [==============================] - 6s 308ms/step - loss: 0.0028 - val_loss: 0.0014\n",
            "Epoch 3/100\n",
            "20/20 [==============================] - 4s 202ms/step - loss: 0.0018 - val_loss: 0.0012\n",
            "Epoch 4/100\n",
            "20/20 [==============================] - 6s 286ms/step - loss: 0.0015 - val_loss: 0.0013\n",
            "Epoch 5/100\n",
            "20/20 [==============================] - 5s 257ms/step - loss: 0.0015 - val_loss: 0.0010\n",
            "Epoch 6/100\n",
            "20/20 [==============================] - 5s 250ms/step - loss: 0.0013 - val_loss: 0.0013\n",
            "Epoch 7/100\n",
            "20/20 [==============================] - 5s 265ms/step - loss: 0.0013 - val_loss: 0.0012\n",
            "Epoch 8/100\n",
            "20/20 [==============================] - 5s 247ms/step - loss: 0.0012 - val_loss: 9.7751e-04\n",
            "Epoch 9/100\n",
            "20/20 [==============================] - 4s 211ms/step - loss: 0.0012 - val_loss: 8.6477e-04\n",
            "Epoch 10/100\n",
            "20/20 [==============================] - 6s 293ms/step - loss: 0.0013 - val_loss: 8.9933e-04\n",
            "Epoch 11/100\n",
            "20/20 [==============================] - 4s 199ms/step - loss: 0.0013 - val_loss: 0.0013\n",
            "Epoch 12/100\n",
            "20/20 [==============================] - 6s 308ms/step - loss: 0.0011 - val_loss: 9.2115e-04\n",
            "Epoch 13/100\n",
            "20/20 [==============================] - 8s 409ms/step - loss: 0.0010 - val_loss: 8.9761e-04\n",
            "Epoch 14/100\n",
            "20/20 [==============================] - 6s 329ms/step - loss: 9.4976e-04 - val_loss: 9.0483e-04\n",
            "Epoch 15/100\n",
            "20/20 [==============================] - 4s 212ms/step - loss: 9.0238e-04 - val_loss: 0.0011\n",
            "Epoch 16/100\n",
            "20/20 [==============================] - 4s 202ms/step - loss: 9.1191e-04 - val_loss: 8.5000e-04\n",
            "Epoch 17/100\n",
            "20/20 [==============================] - 5s 264ms/step - loss: 8.5431e-04 - val_loss: 6.6047e-04\n",
            "Epoch 18/100\n",
            "20/20 [==============================] - 4s 208ms/step - loss: 8.6404e-04 - val_loss: 6.3814e-04\n",
            "Epoch 19/100\n",
            "20/20 [==============================] - 8s 394ms/step - loss: 8.2209e-04 - val_loss: 9.4565e-04\n",
            "Epoch 20/100\n",
            "20/20 [==============================] - 6s 288ms/step - loss: 8.1165e-04 - val_loss: 9.3071e-04\n",
            "Epoch 21/100\n",
            "20/20 [==============================] - 5s 249ms/step - loss: 7.7868e-04 - val_loss: 6.3277e-04\n",
            "Epoch 22/100\n",
            "20/20 [==============================] - 4s 205ms/step - loss: 7.6626e-04 - val_loss: 6.0515e-04\n",
            "Epoch 23/100\n",
            "20/20 [==============================] - 5s 280ms/step - loss: 7.5029e-04 - val_loss: 6.8324e-04\n",
            "Epoch 24/100\n",
            "20/20 [==============================] - 5s 271ms/step - loss: 7.4816e-04 - val_loss: 9.1323e-04\n",
            "Epoch 25/100\n",
            "20/20 [==============================] - 6s 307ms/step - loss: 8.0831e-04 - val_loss: 7.1664e-04\n",
            "Epoch 26/100\n",
            "20/20 [==============================] - 7s 350ms/step - loss: 6.8699e-04 - val_loss: 8.9933e-04\n",
            "Epoch 27/100\n",
            "20/20 [==============================] - 4s 208ms/step - loss: 7.4572e-04 - val_loss: 8.7377e-04\n",
            "Epoch 28/100\n",
            "20/20 [==============================] - 6s 312ms/step - loss: 6.1607e-04 - val_loss: 6.3588e-04\n",
            "Epoch 29/100\n",
            "20/20 [==============================] - 5s 252ms/step - loss: 5.9655e-04 - val_loss: 7.1345e-04\n",
            "Epoch 30/100\n",
            "20/20 [==============================] - 4s 214ms/step - loss: 6.2604e-04 - val_loss: 7.7134e-04\n",
            "Epoch 31/100\n",
            "20/20 [==============================] - 5s 272ms/step - loss: 6.9022e-04 - val_loss: 8.6074e-04\n",
            "Epoch 32/100\n",
            "20/20 [==============================] - 5s 259ms/step - loss: 6.1303e-04 - val_loss: 5.1928e-04\n",
            "Epoch 33/100\n",
            "20/20 [==============================] - 7s 351ms/step - loss: 6.6087e-04 - val_loss: 7.3492e-04\n",
            "Epoch 34/100\n",
            "20/20 [==============================] - 6s 324ms/step - loss: 5.6288e-04 - val_loss: 5.6855e-04\n",
            "Epoch 35/100\n",
            "20/20 [==============================] - 6s 299ms/step - loss: 5.3582e-04 - val_loss: 6.5013e-04\n",
            "Epoch 36/100\n",
            "20/20 [==============================] - 4s 223ms/step - loss: 5.4422e-04 - val_loss: 5.3755e-04\n",
            "Epoch 37/100\n",
            "20/20 [==============================] - 4s 218ms/step - loss: 5.5464e-04 - val_loss: 6.1763e-04\n",
            "Epoch 38/100\n",
            "20/20 [==============================] - 6s 322ms/step - loss: 5.0882e-04 - val_loss: 7.9496e-04\n",
            "Epoch 39/100\n",
            "20/20 [==============================] - 9s 440ms/step - loss: 5.5486e-04 - val_loss: 5.9855e-04\n",
            "Epoch 40/100\n",
            "20/20 [==============================] - 6s 295ms/step - loss: 5.0509e-04 - val_loss: 8.5420e-04\n",
            "Epoch 41/100\n",
            "20/20 [==============================] - 4s 222ms/step - loss: 6.2978e-04 - val_loss: 4.4355e-04\n",
            "Epoch 42/100\n",
            "20/20 [==============================] - 5s 278ms/step - loss: 4.9204e-04 - val_loss: 4.7333e-04\n",
            "Epoch 43/100\n",
            "20/20 [==============================] - 4s 223ms/step - loss: 4.9703e-04 - val_loss: 6.2931e-04\n",
            "Epoch 44/100\n",
            "20/20 [==============================] - 4s 217ms/step - loss: 4.4456e-04 - val_loss: 4.8198e-04\n",
            "Epoch 45/100\n",
            "20/20 [==============================] - 5s 276ms/step - loss: 4.7227e-04 - val_loss: 4.3575e-04\n",
            "Epoch 46/100\n",
            "20/20 [==============================] - 4s 216ms/step - loss: 5.9966e-04 - val_loss: 7.6981e-04\n",
            "Epoch 47/100\n",
            "20/20 [==============================] - 5s 240ms/step - loss: 5.3435e-04 - val_loss: 4.0953e-04\n",
            "Epoch 48/100\n",
            "20/20 [==============================] - 6s 274ms/step - loss: 4.3824e-04 - val_loss: 5.0684e-04\n",
            "Epoch 49/100\n",
            "20/20 [==============================] - 4s 215ms/step - loss: 4.1536e-04 - val_loss: 4.7455e-04\n",
            "Epoch 50/100\n",
            "20/20 [==============================] - 5s 278ms/step - loss: 4.2234e-04 - val_loss: 4.9085e-04\n",
            "Epoch 51/100\n",
            "20/20 [==============================] - 4s 219ms/step - loss: 3.9248e-04 - val_loss: 4.6629e-04\n",
            "Epoch 52/100\n",
            "20/20 [==============================] - 4s 216ms/step - loss: 4.3223e-04 - val_loss: 4.1545e-04\n",
            "Epoch 53/100\n",
            "20/20 [==============================] - 6s 281ms/step - loss: 3.8493e-04 - val_loss: 3.3793e-04\n",
            "Epoch 54/100\n",
            "20/20 [==============================] - 5s 264ms/step - loss: 3.7352e-04 - val_loss: 3.2610e-04\n",
            "Epoch 55/100\n",
            "20/20 [==============================] - 6s 307ms/step - loss: 3.6971e-04 - val_loss: 5.0116e-04\n",
            "Epoch 56/100\n",
            "20/20 [==============================] - 4s 220ms/step - loss: 3.9655e-04 - val_loss: 3.6371e-04\n",
            "Epoch 57/100\n",
            "20/20 [==============================] - 5s 235ms/step - loss: 3.6454e-04 - val_loss: 4.7165e-04\n",
            "Epoch 58/100\n",
            "20/20 [==============================] - 5s 249ms/step - loss: 3.6925e-04 - val_loss: 3.6941e-04\n",
            "Epoch 59/100\n",
            "20/20 [==============================] - 4s 213ms/step - loss: 3.7682e-04 - val_loss: 3.1127e-04\n",
            "Epoch 60/100\n",
            "20/20 [==============================] - 7s 359ms/step - loss: 3.8410e-04 - val_loss: 3.4995e-04\n",
            "Epoch 61/100\n",
            "20/20 [==============================] - 5s 230ms/step - loss: 3.4036e-04 - val_loss: 3.3904e-04\n",
            "Epoch 62/100\n",
            "20/20 [==============================] - 5s 249ms/step - loss: 3.6398e-04 - val_loss: 3.3499e-04\n",
            "Epoch 63/100\n",
            "20/20 [==============================] - 6s 288ms/step - loss: 3.7026e-04 - val_loss: 2.8370e-04\n",
            "Epoch 64/100\n",
            "20/20 [==============================] - 5s 265ms/step - loss: 3.6725e-04 - val_loss: 3.0333e-04\n",
            "Epoch 65/100\n",
            "20/20 [==============================] - 6s 285ms/step - loss: 3.5982e-04 - val_loss: 2.9340e-04\n",
            "Epoch 66/100\n",
            "20/20 [==============================] - 5s 235ms/step - loss: 3.9568e-04 - val_loss: 2.6486e-04\n",
            "Epoch 67/100\n",
            "20/20 [==============================] - 6s 280ms/step - loss: 3.3701e-04 - val_loss: 3.0966e-04\n",
            "Epoch 68/100\n",
            "20/20 [==============================] - 4s 224ms/step - loss: 3.1322e-04 - val_loss: 5.0927e-04\n",
            "Epoch 69/100\n",
            "20/20 [==============================] - 4s 220ms/step - loss: 3.8461e-04 - val_loss: 5.1530e-04\n",
            "Epoch 70/100\n",
            "20/20 [==============================] - 6s 282ms/step - loss: 3.4385e-04 - val_loss: 3.2312e-04\n",
            "Epoch 71/100\n",
            "20/20 [==============================] - 4s 223ms/step - loss: 2.9708e-04 - val_loss: 3.6832e-04\n",
            "Epoch 72/100\n",
            "20/20 [==============================] - 5s 262ms/step - loss: 3.3404e-04 - val_loss: 2.8955e-04\n",
            "Epoch 73/100\n",
            "20/20 [==============================] - 5s 236ms/step - loss: 4.2663e-04 - val_loss: 2.7176e-04\n",
            "Epoch 74/100\n",
            "20/20 [==============================] - 5s 229ms/step - loss: 3.9607e-04 - val_loss: 2.7496e-04\n",
            "Epoch 75/100\n",
            "20/20 [==============================] - 6s 281ms/step - loss: 2.9478e-04 - val_loss: 2.8144e-04\n",
            "Epoch 76/100\n",
            "20/20 [==============================] - 4s 215ms/step - loss: 2.8071e-04 - val_loss: 2.7235e-04\n",
            "Epoch 77/100\n",
            "20/20 [==============================] - 5s 266ms/step - loss: 2.9771e-04 - val_loss: 2.5351e-04\n",
            "Epoch 78/100\n",
            "20/20 [==============================] - 5s 248ms/step - loss: 3.0213e-04 - val_loss: 2.4943e-04\n",
            "Epoch 79/100\n",
            "20/20 [==============================] - 4s 223ms/step - loss: 3.1660e-04 - val_loss: 2.8203e-04\n",
            "Epoch 80/100\n",
            "20/20 [==============================] - 5s 275ms/step - loss: 6.2935e-04 - val_loss: 2.5795e-04\n",
            "Epoch 81/100\n",
            "20/20 [==============================] - 5s 250ms/step - loss: 6.8785e-04 - val_loss: 2.7226e-04\n",
            "Epoch 82/100\n",
            "20/20 [==============================] - 5s 253ms/step - loss: 3.1088e-04 - val_loss: 2.5815e-04\n",
            "Epoch 83/100\n",
            "20/20 [==============================] - 5s 244ms/step - loss: 2.6951e-04 - val_loss: 2.5035e-04\n",
            "Epoch 84/100\n",
            "20/20 [==============================] - 5s 228ms/step - loss: 2.8231e-04 - val_loss: 4.6360e-04\n",
            "Epoch 85/100\n",
            "20/20 [==============================] - 6s 280ms/step - loss: 2.8713e-04 - val_loss: 3.0081e-04\n",
            "Epoch 86/100\n",
            "20/20 [==============================] - 5s 232ms/step - loss: 2.5987e-04 - val_loss: 2.8290e-04\n",
            "Epoch 87/100\n",
            "20/20 [==============================] - 5s 228ms/step - loss: 2.9233e-04 - val_loss: 2.8585e-04\n",
            "Epoch 88/100\n",
            "20/20 [==============================] - 5s 251ms/step - loss: 2.5686e-04 - val_loss: 2.9299e-04\n",
            "Epoch 89/100\n",
            "20/20 [==============================] - 4s 217ms/step - loss: 2.6874e-04 - val_loss: 2.4218e-04\n",
            "Epoch 90/100\n",
            "20/20 [==============================] - 5s 275ms/step - loss: 2.9447e-04 - val_loss: 2.5015e-04\n",
            "Epoch 91/100\n",
            "20/20 [==============================] - 4s 214ms/step - loss: 2.9214e-04 - val_loss: 2.4871e-04\n",
            "Epoch 92/100\n",
            "20/20 [==============================] - 5s 228ms/step - loss: 2.6057e-04 - val_loss: 2.9350e-04\n",
            "Epoch 93/100\n",
            "20/20 [==============================] - 5s 270ms/step - loss: 2.9683e-04 - val_loss: 2.4001e-04\n",
            "Epoch 94/100\n",
            "20/20 [==============================] - 4s 222ms/step - loss: 2.7618e-04 - val_loss: 3.0651e-04\n",
            "Epoch 95/100\n",
            "20/20 [==============================] - 5s 238ms/step - loss: 2.4696e-04 - val_loss: 2.1384e-04\n",
            "Epoch 96/100\n",
            "20/20 [==============================] - 5s 247ms/step - loss: 2.5194e-04 - val_loss: 2.4460e-04\n",
            "Epoch 97/100\n",
            "20/20 [==============================] - 5s 228ms/step - loss: 2.5037e-04 - val_loss: 2.6989e-04\n",
            "Epoch 98/100\n",
            "20/20 [==============================] - 5s 277ms/step - loss: 2.3494e-04 - val_loss: 3.4197e-04\n",
            "Epoch 99/100\n",
            "20/20 [==============================] - 5s 234ms/step - loss: 2.5421e-04 - val_loss: 3.2729e-04\n",
            "Epoch 100/100\n",
            "20/20 [==============================] - 4s 221ms/step - loss: 2.3032e-04 - val_loss: 2.2470e-04\n"
          ]
        },
        {
          "output_type": "execute_result",
          "data": {
            "text/plain": [
              "<keras.callbacks.History at 0x7f9632577490>"
            ]
          },
          "metadata": {},
          "execution_count": 20
        }
      ]
    },
    {
      "cell_type": "code",
      "source": [
        "import tensorflow as tf"
      ],
      "metadata": {
        "id": "LaidhJUHmAz_"
      },
      "execution_count": null,
      "outputs": []
    },
    {
      "cell_type": "code",
      "source": [
        "tf.__version__"
      ],
      "metadata": {
        "colab": {
          "base_uri": "https://localhost:8080/",
          "height": 35
        },
        "id": "_8GNJ_RNmDaX",
        "outputId": "497b99a9-ac00-45d6-d405-766e271dfa6f"
      },
      "execution_count": null,
      "outputs": [
        {
          "output_type": "execute_result",
          "data": {
            "text/plain": [
              "'2.11.0'"
            ],
            "application/vnd.google.colaboratory.intrinsic+json": {
              "type": "string"
            }
          },
          "metadata": {},
          "execution_count": 22
        }
      ]
    },
    {
      "cell_type": "code",
      "source": [
        "### Lets Do the prediction and check performance metrics\n",
        "train_predict=model.predict(X_train)\n",
        "test_predict=model.predict(X_test)\n",
        "##Transformback to original form\n",
        "train_predict=scaler.inverse_transform(train_predict)\n",
        "test_predict=scaler.inverse_transform(test_predict)\n",
        "### Calculate RMSE performance metrics\n",
        "import math\n",
        "from sklearn.metrics import mean_squared_error\n",
        "math.sqrt(mean_squared_error(y_train,train_predict))"
      ],
      "metadata": {
        "colab": {
          "base_uri": "https://localhost:8080/"
        },
        "id": "R5n7vXW9mFvm",
        "outputId": "b3499064-541b-4410-c89a-cc53acb64a54"
      },
      "execution_count": null,
      "outputs": [
        {
          "output_type": "stream",
          "name": "stdout",
          "text": [
            "39/39 [==============================] - 3s 45ms/step\n",
            "20/20 [==============================] - 1s 62ms/step\n"
          ]
        },
        {
          "output_type": "execute_result",
          "data": {
            "text/plain": [
              "164.8661167028849"
            ]
          },
          "metadata": {},
          "execution_count": 23
        }
      ]
    },
    {
      "cell_type": "code",
      "source": [
        "### Test Data RMSE\n",
        "math.sqrt(mean_squared_error(ytest,test_predict))"
      ],
      "metadata": {
        "colab": {
          "base_uri": "https://localhost:8080/"
        },
        "id": "cbtdXWsZmIk5",
        "outputId": "18440bc4-6358-48c8-f512-475b093d6a96"
      },
      "execution_count": null,
      "outputs": [
        {
          "output_type": "execute_result",
          "data": {
            "text/plain": [
              "115.85998256398263"
            ]
          },
          "metadata": {},
          "execution_count": 24
        }
      ]
    },
    {
      "cell_type": "code",
      "source": [
        "### Plotting \n",
        "# shift train predictions for plotting\n",
        "look_back=100\n",
        "trainPredictPlot = numpy.empty_like(df1)\n",
        "trainPredictPlot[:, :] = np.nan\n",
        "trainPredictPlot[look_back:len(train_predict)+look_back, :] = train_predict\n",
        "# shift test predictions for plotting\n",
        "testPredictPlot = numpy.empty_like(df1)\n",
        "testPredictPlot[:, :] = numpy.nan\n",
        "testPredictPlot[len(train_predict)+(look_back*2)+1:len(df1)-1, :] = test_predict\n",
        "# plot baseline and predictions\n",
        "plt.plot(scaler.inverse_transform(df1))\n",
        "plt.plot(trainPredictPlot)\n",
        "plt.plot(testPredictPlot)\n",
        "plt.show()"
      ],
      "metadata": {
        "colab": {
          "base_uri": "https://localhost:8080/",
          "height": 265
        },
        "id": "5Zk2NXTGmK-q",
        "outputId": "7ae4ebd6-55a1-471b-e0ac-c6f3d63d40a8"
      },
      "execution_count": null,
      "outputs": [
        {
          "output_type": "display_data",
          "data": {
            "text/plain": [
              "<Figure size 432x288 with 1 Axes>"
            ],
            "image/png": "[encoded data removed]"
          },
          "metadata": {
            "needs_background": "light"
          }
        }
      ]
    },
    {
      "cell_type": "code",
      "source": [
        "len(test_data)"
      ],
      "metadata": {
        "colab": {
          "base_uri": "https://localhost:8080/"
        },
        "id": "3b0ZNwwqmON1",
        "outputId": "56a8fe77-4a75-4f8a-ca86-73468c5cae58"
      },
      "execution_count": null,
      "outputs": [
        {
          "output_type": "execute_result",
          "data": {
            "text/plain": [
              "713"
            ]
          },
          "metadata": {},
          "execution_count": 26
        }
      ]
    },
    {
      "cell_type": "code",
      "source": [
        "x_input=test_data[341:].reshape(1,-1)\n",
        "x_input.shape"
      ],
      "metadata": {
        "colab": {
          "base_uri": "https://localhost:8080/"
        },
        "id": "aH_l0FTdmP_f",
        "outputId": "612df2dc-c995-4ad0-a699-0c6d906853fc"
      },
      "execution_count": null,
      "outputs": [
        {
          "output_type": "execute_result",
          "data": {
            "text/plain": [
              "(1, 372)"
            ]
          },
          "metadata": {},
          "execution_count": 27
        }
      ]
    },
    {
      "cell_type": "code",
      "source": [
        "temp_input=list(x_input)\n",
        "temp_input=temp_input[0].tolist()"
      ],
      "metadata": {
        "id": "gGOK0KY7mSC9"
      },
      "execution_count": null,
      "outputs": []
    },
    {
      "cell_type": "code",
      "source": [
        "temp_input"
      ],
      "metadata": {
        "colab": {
          "base_uri": "https://localhost:8080/"
        },
        "id": "4c3fXLlcmUKj",
        "outputId": "c08144b2-6ff8-4761-85fd-3e699c3d3483"
      },
      "execution_count": null,
      "outputs": [
        {
          "output_type": "execute_result",
          "data": {
            "text/plain": [
              "[0.048815359477124176,\n",
              " 0.048815359477124176,\n",
              " 0.05310457516339867,\n",
              " 0.049632352941176405,\n",
              " 0.05065359477124176,\n",
              " 0.05126633986928103,\n",
              " 0.049632352941176405,\n",
              " 0.05902777777777779,\n",
              " 0.055555555555555525,\n",
              " 0.040849673202614345,\n",
              " 0.037377450980392135,\n",
              " 0.037377450980392135,\n",
              " 0.026552287581699308,\n",
              " 0.02879901960784309,\n",
              " 0.03165849673202614,\n",
              " 0.03165849673202614,\n",
              " 0.036356209150326724,\n",
              " 0.022058823529411742,\n",
              " 0.016748366013071836,\n",
              " 0.014501633986928053,\n",
              " 0.022263071895424813,\n",
              " 0.03615196078431371,\n",
              " 0.02675653594771238,\n",
              " 0.03206699346405223,\n",
              " 0.02696078431372545,\n",
              " 0.035743464052287566,\n",
              " 0.03594771241830064,\n",
              " 0.0404411764705882,\n",
              " 0.039215686274509776,\n",
              " 0.044117647058823484,\n",
              " 0.029820261437908446,\n",
              " 0.012254901960784326,\n",
              " 0.012867647058823484,\n",
              " 0.011437908496731986,\n",
              " 0.0024509803921567985,\n",
              " 0.005923202614379064,\n",
              " 0.0,\n",
              " 0.007148692810457491,\n",
              " 0.0042892156862744946,\n",
              " 0.006740196078431349,\n",
              " 0.006331699346405206,\n",
              " 0.011233660130718914,\n",
              " 0.019607843137254888,\n",
              " 0.02757352941176472,\n",
              " 0.030024509803921517,\n",
              " 0.03349673202614378,\n",
              " 0.04003267973856206,\n",
              " 0.040849673202614345,\n",
              " 0.03982843137254899,\n",
              " 0.041666666666666685,\n",
              " 0.0437091503267974,\n",
              " 0.047589869281045694,\n",
              " 0.03594771241830064,\n",
              " 0.028390522875817004,\n",
              " 0.024101307189542454,\n",
              " 0.017156862745098034,\n",
              " 0.015318627450980393,\n",
              " 0.017565359477124176,\n",
              " 0.02696078431372545,\n",
              " 0.02696078431372545,\n",
              " 0.03819444444444442,\n",
              " 0.028390522875817004,\n",
              " 0.02369281045751631,\n",
              " 0.029207516339869233,\n",
              " 0.02328431372549017,\n",
              " 0.019199346405228745,\n",
              " 0.006535947712418277,\n",
              " 0.000612745098039158,\n",
              " 0.007965686274509776,\n",
              " 0.012459150326797341,\n",
              " 0.01981209150326796,\n",
              " 0.019403594771241817,\n",
              " 0.022467320261437884,\n",
              " 0.031249999999999944,\n",
              " 0.02348856209150324,\n",
              " 0.024918300653594738,\n",
              " 0.02144607843137253,\n",
              " 0.04840686274509798,\n",
              " 0.04575163398692811,\n",
              " 0.03962418300653592,\n",
              " 0.039215686274509776,\n",
              " 0.047589869281045694,\n",
              " 0.04513888888888884,\n",
              " 0.041666666666666685,\n",
              " 0.04125816993464049,\n",
              " 0.050449346405228745,\n",
              " 0.055555555555555525,\n",
              " 0.05494281045751631,\n",
              " 0.054125816993464027,\n",
              " 0.04350490196078427,\n",
              " 0.04799836601307189,\n",
              " 0.0514705882352941,\n",
              " 0.05065359477124176,\n",
              " 0.03431372549019601,\n",
              " 0.04575163398692811,\n",
              " 0.0418709150326797,\n",
              " 0.04554738562091498,\n",
              " 0.03941993464052285,\n",
              " 0.02716503267973852,\n",
              " 0.031249999999999944,\n",
              " 0.05882352941176466,\n",
              " 0.07148692810457513,\n",
              " 0.08721405228758167,\n",
              " 0.08986928104575165,\n",
              " 0.10498366013071897,\n",
              " 0.08905228758169931,\n",
              " 0.10355392156862742,\n",
              " 0.10375816993464049,\n",
              " 0.12275326797385616,\n",
              " 0.1090686274509804,\n",
              " 0.09660947712418294,\n",
              " 0.10641339869281041,\n",
              " 0.10457516339869277,\n",
              " 0.11049836601307189,\n",
              " 0.11274509803921567,\n",
              " 0.0980392156862745,\n",
              " 0.09987745098039214,\n",
              " 0.08925653594771238,\n",
              " 0.07475490196078427,\n",
              " 0.08169934640522875,\n",
              " 0.08925653594771238,\n",
              " 0.09068627450980393,\n",
              " 0.08129084967320255,\n",
              " 0.08823529411764702,\n",
              " 0.08455882352941174,\n",
              " 0.07945261437908496,\n",
              " 0.08374183006535946,\n",
              " 0.0778186274509804,\n",
              " 0.09824346405228757,\n",
              " 0.090890522875817,\n",
              " 0.09007352941176466,\n",
              " 0.09558823529411759,\n",
              " 0.06862745098039214,\n",
              " 0.06372549019607837,\n",
              " 0.04942810457516339,\n",
              " 0.04799836601307189,\n",
              " 0.04534313725490191,\n",
              " 0.044321895424836555,\n",
              " 0.03941993464052285,\n",
              " 0.03799019607843135,\n",
              " 0.04656862745098034,\n",
              " 0.05085784313725489,\n",
              " 0.07209967320261434,\n",
              " 0.065359477124183,\n",
              " 0.07230392156862747,\n",
              " 0.07802287581699341,\n",
              " 0.07741013071895425,\n",
              " 0.060866013071895375,\n",
              " 0.06413398692810457,\n",
              " 0.07046568627450978,\n",
              " 0.054125816993464027,\n",
              " 0.04983660130718953,\n",
              " 0.05167483660130712,\n",
              " 0.05330882352941174,\n",
              " 0.04350490196078427,\n",
              " 0.026348039215686292,\n",
              " 0.024101307189542454,\n",
              " 0.02961601307189543,\n",
              " 0.019607843137254888,\n",
              " 0.02961601307189543,\n",
              " 0.04575163398692811,\n",
              " 0.05923202614379086,\n",
              " 0.0667892156862745,\n",
              " 0.06229575163398693,\n",
              " 0.06311274509803921,\n",
              " 0.06290849673202609,\n",
              " 0.06658496732026142,\n",
              " 0.07434640522875818,\n",
              " 0.06944444444444442,\n",
              " 0.08088235294117646,\n",
              " 0.07700163398692805,\n",
              " 0.06842320261437906,\n",
              " 0.06781045751633985,\n",
              " 0.06290849673202609,\n",
              " 0.06924019607843135,\n",
              " 0.07557189542483661,\n",
              " 0.0778186274509804,\n",
              " 0.08088235294117646,\n",
              " 0.0884395424836601,\n",
              " 0.09395424836601307,\n",
              " 0.09599673202614378,\n",
              " 0.08660130718954251,\n",
              " 0.09027777777777773,\n",
              " 0.08517156862745096,\n",
              " 0.08374183006535946,\n",
              " 0.07945261437908496,\n",
              " 0.09109477124183002,\n",
              " 0.09129901960784309,\n",
              " 0.08803104575163395,\n",
              " 0.09681372549019607,\n",
              " 0.11417483660130717,\n",
              " 0.10498366013071897,\n",
              " 0.09987745098039214,\n",
              " 0.08537581699346403,\n",
              " 0.08047385620915032,\n",
              " 0.06862745098039214,\n",
              " 0.06576797385620914,\n",
              " 0.061478758169934644,\n",
              " 0.0716911764705882,\n",
              " 0.0702614379084967,\n",
              " 0.07475490196078427,\n",
              " 0.06821895424836599,\n",
              " 0.06924019607843135,\n",
              " 0.07066993464052285,\n",
              " 0.06801470588235292,\n",
              " 0.0667892156862745,\n",
              " 0.07414215686274506,\n",
              " 0.0716911764705882,\n",
              " 0.08639705882352938,\n",
              " 0.08312908496732024,\n",
              " 0.06311274509803921,\n",
              " 0.06290849673202609,\n",
              " 0.05167483660130712,\n",
              " 0.031862745098039214,\n",
              " 0.04003267973856206,\n",
              " 0.03860294117647056,\n",
              " 0.041053921568627416,\n",
              " 0.033905228758169925,\n",
              " 0.031249999999999944,\n",
              " 0.026348039215686292,\n",
              " 0.05861928104575159,\n",
              " 0.06311274509803921,\n",
              " 0.06209150326797386,\n",
              " 0.055351307189542454,\n",
              " 0.08455882352941174,\n",
              " 0.05514705882352938,\n",
              " 0.06045751633986923,\n",
              " 0.055759803921568596,\n",
              " 0.04391339869281047,\n",
              " 0.029207516339869233,\n",
              " 0.028186274509803877,\n",
              " 0.04718137254901961,\n",
              " 0.06045751633986923,\n",
              " 0.05861928104575159,\n",
              " 0.06168300653594766,\n",
              " 0.06699346405228751,\n",
              " 0.07087418300653592,\n",
              " 0.07557189542483661,\n",
              " 0.07700163398692805,\n",
              " 0.10375816993464049,\n",
              " 0.10314542483660127,\n",
              " 0.10334967320261434,\n",
              " 0.10089869281045749,\n",
              " 0.1043709150326797,\n",
              " 0.0980392156862745,\n",
              " 0.09722222222222221,\n",
              " 0.09783496732026142,\n",
              " 0.09579248366013071,\n",
              " 0.09109477124183002,\n",
              " 0.09313725490196079,\n",
              " 0.0855800653594771,\n",
              " 0.0951797385620915,\n",
              " 0.11172385620915032,\n",
              " 0.12275326797385616,\n",
              " 0.12806372549019607,\n",
              " 0.1313316993464052,\n",
              " 0.12479575163398693,\n",
              " 0.11090686274509798,\n",
              " 0.10743464052287577,\n",
              " 0.11621732026143788,\n",
              " 0.1168300653594771,\n",
              " 0.11764705882352938,\n",
              " 0.12888071895424835,\n",
              " 0.1284722222222222,\n",
              " 0.13337418300653592,\n",
              " 0.1423611111111111,\n",
              " 0.1409313725490196,\n",
              " 0.13970588235294118,\n",
              " 0.13827614379084963,\n",
              " 0.13541666666666663,\n",
              " 0.13010620915032678,\n",
              " 0.12254901960784315,\n",
              " 0.12479575163398693,\n",
              " 0.1384803921568627,\n",
              " 0.14011437908496732,\n",
              " 0.1388888888888889,\n",
              " 0.13541666666666663,\n",
              " 0.14011437908496732,\n",
              " 0.13807189542483655,\n",
              " 0.130718954248366,\n",
              " 0.130718954248366,\n",
              " 0.12867647058823528,\n",
              " 0.11846405228758167,\n",
              " 0.14644607843137253,\n",
              " 0.1480800653594771,\n",
              " 0.159109477124183,\n",
              " 0.15992647058823523,\n",
              " 0.1578839869281045,\n",
              " 0.16441993464052285,\n",
              " 0.178921568627451,\n",
              " 0.17933006535947704,\n",
              " 0.19260620915032678,\n",
              " 0.2081290849673203,\n",
              " 0.18974673202614378,\n",
              " 0.18055555555555558,\n",
              " 0.1823937908496731,\n",
              " 0.17708333333333326,\n",
              " 0.17810457516339862,\n",
              " 0.18055555555555558,\n",
              " 0.17810457516339862,\n",
              " 0.17851307189542487,\n",
              " 0.196078431372549,\n",
              " 0.18913398692810457,\n",
              " 0.1895424836601307,\n",
              " 0.19403594771241828,\n",
              " 0.19444444444444442,\n",
              " 0.20200163398692816,\n",
              " 0.19771241830065356,\n",
              " 0.19934640522875813,\n",
              " 0.19873366013071891,\n",
              " 0.19975490196078427,\n",
              " 0.21282679738562094,\n",
              " 0.21568627450980393,\n",
              " 0.2044526143790849,\n",
              " 0.21772875816993464,\n",
              " 0.21098856209150318,\n",
              " 0.21425653594771243,\n",
              " 0.1975081699346406,\n",
              " 0.1881127450980392,\n",
              " 0.17851307189542487,\n",
              " 0.17381535947712412,\n",
              " 0.16033496732026142,\n",
              " 0.16564542483660127,\n",
              " 0.1711601307189542,\n",
              " 0.17422385620915026,\n",
              " 0.1803513071895424,\n",
              " 0.1740196078431372,\n",
              " 0.16278594771241828,\n",
              " 0.1697303921568627,\n",
              " 0.17810457516339862,\n",
              " 0.1703431372549019,\n",
              " 0.16830065359477125,\n",
              " 0.17279411764705876,\n",
              " 0.1754493464052288,\n",
              " 0.18382352941176472,\n",
              " 0.19138071895424835,\n",
              " 0.18913398692810457,\n",
              " 0.1909722222222222,\n",
              " 0.17238562091503273,\n",
              " 0.16830065359477125,\n",
              " 0.16932189542483655,\n",
              " 0.1717728758169934,\n",
              " 0.16156045751633985,\n",
              " 0.14971405228758167,\n",
              " 0.15032679738562088,\n",
              " 0.1519607843137255,\n",
              " 0.1472630718954248,\n",
              " 0.14501633986928103,\n",
              " 0.14603758169934639,\n",
              " 0.12479575163398693,\n",
              " 0.13112745098039214,\n",
              " 0.11397058823529405,\n",
              " 0.11907679738562088,\n",
              " 0.12377450980392157,\n",
              " 0.13562091503267976,\n",
              " 0.12908496732026142,\n",
              " 0.1345996732026144,\n",
              " 0.12806372549019607,\n",
              " 0.13031045751633985,\n",
              " 0.12724673202614373,\n",
              " 0.13521241830065356,\n",
              " 0.1452205882352941,\n",
              " 0.15257352941176466,\n",
              " 0.14848856209150324,\n",
              " 0.14338235294117646,\n",
              " 0.14562908496732024,\n",
              " 0.1523692810457516,\n",
              " 0.15400326797385622,\n",
              " 0.14971405228758167,\n",
              " 0.16217320261437906,\n",
              " 0.16319444444444448,\n",
              " 0.16584967320261434]"
            ]
          },
          "metadata": {},
          "execution_count": 29
        }
      ]
    },
    {
      "cell_type": "code",
      "source": [
        "# demonstrate prediction for next 10 days\n",
        "from numpy import array\n",
        "\n",
        "lst_output=[]\n",
        "n_steps=100\n",
        "i=0\n",
        "while(i<30):\n",
        "    \n",
        "    if(len(temp_input)>100):\n",
        "        #print(temp_input)\n",
        "        x_input=np.array(temp_input[1:])\n",
        "        print(\"{} day input {}\".format(i,x_input))\n",
        "        x_input=x_input.reshape(1,-1)\n",
        "        x_input = x_input.reshape((1, n_steps, 1))\n",
        "        #print(x_input)\n",
        "        yhat = model.predict(x_input, verbose=0)\n",
        "        print(\"{} day output {}\".format(i,yhat))\n",
        "        temp_input.extend(yhat[0].tolist())\n",
        "        temp_input=temp_input[1:]\n",
        "        #print(temp_input)\n",
        "        lst_output.extend(yhat.tolist())\n",
        "        i=i+1\n",
        "    else:\n",
        "        x_input = x_input.reshape((1, n_steps,1))\n",
        "        yhat = model.predict(x_input, verbose=0)\n",
        "        print(yhat[0])\n",
        "        temp_input.extend(yhat[0].tolist())\n",
        "        print(len(temp_input))\n",
        "        lst_output.extend(yhat.tolist())\n",
        "        i=i+1\n",
        "    \n",
        "\n",
        "print(lst_output)"
      ],
      "metadata": {
        "colab": {
          "base_uri": "https://localhost:8080/",
          "height": 1000
        },
        "id": "iXWtJCa1mWSU",
        "outputId": "f2ff5b04-afc2-449b-d80a-7fa79009ae32"
      },
      "execution_count": null,
      "outputs": [
        {
          "output_type": "stream",
          "name": "stdout",
          "text": [
            "0 day input [0.04881536 0.05310458 0.04963235 0.05065359 0.05126634 0.04963235\n",
            " 0.05902778 0.05555556 0.04084967 0.03737745 0.03737745 0.02655229\n",
            " 0.02879902 0.0316585  0.0316585  0.03635621 0.02205882 0.01674837\n",
            " 0.01450163 0.02226307 0.03615196 0.02675654 0.03206699 0.02696078\n",
            " 0.03574346 0.03594771 0.04044118 0.03921569 0.04411765 0.02982026\n",
            " 0.0122549  0.01286765 0.01143791 0.00245098 0.0059232  0.\n",
            " 0.00714869 0.00428922 0.0067402  0.0063317  0.01123366 0.01960784\n",
            " 0.02757353 0.03002451 0.03349673 0.04003268 0.04084967 0.03982843\n",
            " 0.04166667 0.04370915 0.04758987 0.03594771 0.02839052 0.02410131\n",
            " 0.01715686 0.01531863 0.01756536 0.02696078 0.02696078 0.03819444\n",
            " 0.02839052 0.02369281 0.02920752 0.02328431 0.01919935 0.00653595\n",
            " 0.00061275 0.00796569 0.01245915 0.01981209 0.01940359 0.02246732\n",
            " 0.03125    0.02348856 0.0249183  0.02144608 0.04840686 0.04575163\n",
            " 0.03962418 0.03921569 0.04758987 0.04513889 0.04166667 0.04125817\n",
            " 0.05044935 0.05555556 0.05494281 0.05412582 0.0435049  0.04799837\n",
            " 0.05147059 0.05065359 0.03431373 0.04575163 0.04187092 0.04554739\n",
            " 0.03941993 0.02716503 0.03125    0.05882353 0.07148693 0.08721405\n",
            " 0.08986928 0.10498366 0.08905229 0.10355392 0.10375817 0.12275327\n",
            " 0.10906863 0.09660948 0.1064134  0.10457516 0.11049837 0.1127451\n",
            " 0.09803922 0.09987745 0.08925654 0.0747549  0.08169935 0.08925654\n",
            " 0.09068627 0.08129085 0.08823529 0.08455882 0.07945261 0.08374183\n",
            " 0.07781863 0.09824346 0.09089052 0.09007353 0.09558824 0.06862745\n",
            " 0.06372549 0.0494281  0.04799837 0.04534314 0.0443219  0.03941993\n",
            " 0.0379902  0.04656863 0.05085784 0.07209967 0.06535948 0.07230392\n",
            " 0.07802288 0.07741013 0.06086601 0.06413399 0.07046569 0.05412582\n",
            " 0.0498366  0.05167484 0.05330882 0.0435049  0.02634804 0.02410131\n",
            " 0.02961601 0.01960784 0.02961601 0.04575163 0.05923203 0.06678922\n",
            " 0.06229575 0.06311275 0.0629085  0.06658497 0.07434641 0.06944444\n",
            " 0.08088235 0.07700163 0.0684232  0.06781046 0.0629085  0.0692402\n",
            " 0.0755719  0.07781863 0.08088235 0.08843954 0.09395425 0.09599673\n",
            " 0.08660131 0.09027778 0.08517157 0.08374183 0.07945261 0.09109477\n",
            " 0.09129902 0.08803105 0.09681373 0.11417484 0.10498366 0.09987745\n",
            " 0.08537582 0.08047386 0.06862745 0.06576797 0.06147876 0.07169118\n",
            " 0.07026144 0.0747549  0.06821895 0.0692402  0.07066993 0.06801471\n",
            " 0.06678922 0.07414216 0.07169118 0.08639706 0.08312908 0.06311275\n",
            " 0.0629085  0.05167484 0.03186275 0.04003268 0.03860294 0.04105392\n",
            " 0.03390523 0.03125    0.02634804 0.05861928 0.06311275 0.0620915\n",
            " 0.05535131 0.08455882 0.05514706 0.06045752 0.0557598  0.0439134\n",
            " 0.02920752 0.02818627 0.04718137 0.06045752 0.05861928 0.06168301\n",
            " 0.06699346 0.07087418 0.0755719  0.07700163 0.10375817 0.10314542\n",
            " 0.10334967 0.10089869 0.10437092 0.09803922 0.09722222 0.09783497\n",
            " 0.09579248 0.09109477 0.09313725 0.08558007 0.09517974 0.11172386\n",
            " 0.12275327 0.12806373 0.1313317  0.12479575 0.11090686 0.10743464\n",
            " 0.11621732 0.11683007 0.11764706 0.12888072 0.12847222 0.13337418\n",
            " 0.14236111 0.14093137 0.13970588 0.13827614 0.13541667 0.13010621\n",
            " 0.12254902 0.12479575 0.13848039 0.14011438 0.13888889 0.13541667\n",
            " 0.14011438 0.1380719  0.13071895 0.13071895 0.12867647 0.11846405\n",
            " 0.14644608 0.14808007 0.15910948 0.15992647 0.15788399 0.16441993\n",
            " 0.17892157 0.17933007 0.19260621 0.20812908 0.18974673 0.18055556\n",
            " 0.18239379 0.17708333 0.17810458 0.18055556 0.17810458 0.17851307\n",
            " 0.19607843 0.18913399 0.18954248 0.19403595 0.19444444 0.20200163\n",
            " 0.19771242 0.19934641 0.19873366 0.1997549  0.2128268  0.21568627\n",
            " 0.20445261 0.21772876 0.21098856 0.21425654 0.19750817 0.18811275\n",
            " 0.17851307 0.17381536 0.16033497 0.16564542 0.17116013 0.17422386\n",
            " 0.18035131 0.17401961 0.16278595 0.16973039 0.17810458 0.17034314\n",
            " 0.16830065 0.17279412 0.17544935 0.18382353 0.19138072 0.18913399\n",
            " 0.19097222 0.17238562 0.16830065 0.1693219  0.17177288 0.16156046\n",
            " 0.14971405 0.1503268  0.15196078 0.14726307 0.14501634 0.14603758\n",
            " 0.12479575 0.13112745 0.11397059 0.1190768  0.12377451 0.13562092\n",
            " 0.12908497 0.13459967 0.12806373 0.13031046 0.12724673 0.13521242\n",
            " 0.14522059 0.15257353 0.14848856 0.14338235 0.14562908 0.15236928\n",
            " 0.15400327 0.14971405 0.1621732  0.16319444 0.16584967]\n"
          ]
        },
        {
          "output_type": "error",
          "ename": "ValueError",
          "evalue": "ignored",
          "traceback": [
            "\u001b[0;31m---------------------------------------------------------------------------\u001b[0m",
            "\u001b[0;31mValueError\u001b[0m                                Traceback (most recent call last)",
            "\u001b[0;32m<ipython-input-30-b8544ff16353>\u001b[0m in \u001b[0;36m<module>\u001b[0;34m\u001b[0m\n\u001b[1;32m     12\u001b[0m         \u001b[0mprint\u001b[0m\u001b[0;34m(\u001b[0m\u001b[0;34m\"{} day input {}\"\u001b[0m\u001b[0;34m.\u001b[0m\u001b[0mformat\u001b[0m\u001b[0;34m(\u001b[0m\u001b[0mi\u001b[0m\u001b[0;34m,\u001b[0m\u001b[0mx_input\u001b[0m\u001b[0;34m)\u001b[0m\u001b[0;34m)\u001b[0m\u001b[0;34m\u001b[0m\u001b[0;34m\u001b[0m\u001b[0m\n\u001b[1;32m     13\u001b[0m         \u001b[0mx_input\u001b[0m\u001b[0;34m=\u001b[0m\u001b[0mx_input\u001b[0m\u001b[0;34m.\u001b[0m\u001b[0mreshape\u001b[0m\u001b[0;34m(\u001b[0m\u001b[0;36m1\u001b[0m\u001b[0;34m,\u001b[0m\u001b[0;34m-\u001b[0m\u001b[0;36m1\u001b[0m\u001b[0;34m)\u001b[0m\u001b[0;34m\u001b[0m\u001b[0;34m\u001b[0m\u001b[0m\n\u001b[0;32m---> 14\u001b[0;31m         \u001b[0mx_input\u001b[0m \u001b[0;34m=\u001b[0m \u001b[0mx_input\u001b[0m\u001b[0;34m.\u001b[0m\u001b[0mreshape\u001b[0m\u001b[0;34m(\u001b[0m\u001b[0;34m(\u001b[0m\u001b[0;36m1\u001b[0m\u001b[0;34m,\u001b[0m \u001b[0mn_steps\u001b[0m\u001b[0;34m,\u001b[0m \u001b[0;36m1\u001b[0m\u001b[0;34m)\u001b[0m\u001b[0;34m)\u001b[0m\u001b[0;34m\u001b[0m\u001b[0;34m\u001b[0m\u001b[0m\n\u001b[0m\u001b[1;32m     15\u001b[0m         \u001b[0;31m#print(x_input)\u001b[0m\u001b[0;34m\u001b[0m\u001b[0;34m\u001b[0m\u001b[0;34m\u001b[0m\u001b[0m\n\u001b[1;32m     16\u001b[0m         \u001b[0myhat\u001b[0m \u001b[0;34m=\u001b[0m \u001b[0mmodel\u001b[0m\u001b[0;34m.\u001b[0m\u001b[0mpredict\u001b[0m\u001b[0;34m(\u001b[0m\u001b[0mx_input\u001b[0m\u001b[0;34m,\u001b[0m \u001b[0mverbose\u001b[0m\u001b[0;34m=\u001b[0m\u001b[0;36m0\u001b[0m\u001b[0;34m)\u001b[0m\u001b[0;34m\u001b[0m\u001b[0;34m\u001b[0m\u001b[0m\n",
            "\u001b[0;31mValueError\u001b[0m: cannot reshape array of size 371 into shape (1,100,1)"
          ]
        }
      ]
    },
    {
      "cell_type": "code",
      "source": [
        "day_new=np.arange(1,101)\n",
        "day_pred=np.arange(101,131)\n",
        "import matplotlib.pyplot as plt\n",
        "len(df1)"
      ],
      "metadata": {
        "id": "8IuthC_dmcgq"
      },
      "execution_count": null,
      "outputs": []
    },
    {
      "cell_type": "code",
      "source": [
        "plt.plot(day_new,scaler.inverse_transform(df1[1158:]))\n",
        "plt.plot(day_pred,scaler.inverse_transform(lst_output))"
      ],
      "metadata": {
        "id": "jV9Ipeycmhis"
      },
      "execution_count": null,
      "outputs": []
    },
    {
      "cell_type": "code",
      "source": [
        "df3=df1.tolist()\n",
        "df3.extend(lst_output)\n",
        "plt.plot(df3[1200:])"
      ],
      "metadata": {
        "id": "5ej9ctPWmjyu"
      },
      "execution_count": null,
      "outputs": []
    },
    {
      "cell_type": "code",
      "source": [
        "df3=scaler.inverse_transform(df3).tolist()"
      ],
      "metadata": {
        "id": "_gbSXnbCmly8"
      },
      "execution_count": null,
      "outputs": []
    },
    {
      "cell_type": "code",
      "source": [
        "plt.plot(df3)"
      ],
      "metadata": {
        "id": "djBPGstYmnzb"
      },
      "execution_count": null,
      "outputs": []
    },
    {
      "cell_type": "code",
      "source": [],
      "metadata": {
        "id": "UYVuK_PNmpXM"
      },
      "execution_count": null,
      "outputs": []
    }
  ]
}