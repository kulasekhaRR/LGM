{
  "nbformat": 4,
  "nbformat_minor": 0,
  "metadata": {
    "colab": {
      "provenance": [],
      "authorship_tag": "ABX9TyNvsGrVDJ1kSHSaQzVL6chx",
      "include_colab_link": true
    },
    "kernelspec": {
      "name": "python3",
      "display_name": "Python 3"
    },
    "language_info": {
      "name": "python"
    }
  },
  "cells": [
    {
      "cell_type": "markdown",
      "metadata": {
        "id": "view-in-github",
        "colab_type": "text"
      },
      "source": [
        "<a href=\"https://colab.research.google.com/github/kulasekhaRR/LGM/blob/main/task8.ipynb\" target=\"_parent\"><img src=\"https://colab.research.google.com/assets/colab-badge.svg\" alt=\"Open In Colab\"/></a>"
      ]
    },
    {
      "cell_type": "markdown",
      "source": [
        "Next Word Prediction:"
      ],
      "metadata": {
        "id": "IKyvF24CMKlb"
      }
    },
    {
      "cell_type": "markdown",
      "source": [
        "Important Libraries for the Predictions:"
      ],
      "metadata": {
        "id": "iHTKdn0cMYdz"
      }
    },
    {
      "cell_type": "code",
      "execution_count": 2,
      "metadata": {
        "id": "hV-ky9hvLa7q"
      },
      "outputs": [],
      "source": [
        "import tensorflow as tf\n",
        "from tensorflow.keras.preprocessing.text import Tokenizer\n",
        "from tensorflow.keras.layers import Embedding, LSTM, Dense\n",
        "from tensorflow.keras.models import Sequential\n",
        "from tensorflow.keras.utils import to_categorical\n",
        "from tensorflow.keras.optimizers import Adam\n",
        "import pickle\n",
        "import numpy as np\n",
        "import os\n",
        "import numpy as np\n",
        "\n",
        "import heapq\n",
        "\n",
        "import matplotlib.pyplot as plt\n",
        "\n",
        "from nltk.tokenize import RegexpTokenizer\n",
        "\n",
        "from keras.models import Sequential, load_model\n",
        "\n",
        "from keras.layers.core import Dense, Activation\n",
        "\n",
        "from keras.layers import LSTM\n",
        "\n",
        "import pickle\n",
        "\n",
        "from keras.optimizers import RMSprop"
      ]
    },
    {
      "cell_type": "markdown",
      "source": [
        "Storing the data from text mode in a datatype:"
      ],
      "metadata": {
        "id": "EomjJXbpMlbX"
      }
    },
    {
      "cell_type": "code",
      "source": [
        "file = open(\"1661-0.txt\", \"r\", encoding = \"utf8\")\n",
        "lines = []\n",
        "\n",
        "for i in file:\n",
        "    lines.append(i)\n",
        "    \n",
        "print(\"The First Line: \", lines[0])\n",
        "print(\"The Last Line: \", lines[-1])"
      ],
      "metadata": {
        "colab": {
          "base_uri": "https://localhost:8080/"
        },
        "id": "qe0pXOI8MiRF",
        "outputId": "3878d099-1d80-42cb-be87-06deb0a4d57d"
      },
      "execution_count": 7,
      "outputs": [
        {
          "output_type": "stream",
          "name": "stdout",
          "text": [
            "The First Line:  ﻿\n",
            "\n",
            "The Last Line:  \n",
            "\n"
          ]
        }
      ]
    },
    {
      "cell_type": "code",
      "source": [
        "data = \"\"\n",
        "\n",
        "for i in lines:\n",
        "    data = ' '. join(lines)\n",
        "    \n",
        "data = data.replace('\\n', '').replace('\\r', '').replace('\\ufeff', '')\n",
        "data[:360]\n"
      ],
      "metadata": {
        "colab": {
          "base_uri": "https://localhost:8080/",
          "height": 87
        },
        "id": "BkewySpLM1HA",
        "outputId": "15e1ac03-7761-4288-9e96-93a3b4a218a3"
      },
      "execution_count": 8,
      "outputs": [
        {
          "output_type": "execute_result",
          "data": {
            "text/plain": [
              "\" Project Gutenberg's The Adventures of Sherlock Holmes, by Arthur Conan Doyle  This eBook is for the use of anyone anywhere at no cost and with almost no restrictions whatsoever.  You may copy it, give it away or re-use it under the terms of the Project Gutenberg License included with this eBook or online at www.gutenberg.net   Title: The Adventures of Sherl\""
            ],
            "application/vnd.google.colaboratory.intrinsic+json": {
              "type": "string"
            }
          },
          "metadata": {},
          "execution_count": 8
        }
      ]
    },
    {
      "cell_type": "code",
      "source": [
        "import string\n",
        "\n",
        "translator = str.maketrans(string.punctuation, ' '*len(string.punctuation)) #map punctuation to space\n",
        "new_data = data.translate(translator)\n",
        "\n",
        "new_data[:500]"
      ],
      "metadata": {
        "colab": {
          "base_uri": "https://localhost:8080/",
          "height": 104
        },
        "id": "w6ecQ46LNXzS",
        "outputId": "95d5bad0-baf7-4c45-f79b-3e2f956d2440"
      },
      "execution_count": 9,
      "outputs": [
        {
          "output_type": "execute_result",
          "data": {
            "text/plain": [
              "' Project Gutenberg s The Adventures of Sherlock Holmes  by Arthur Conan Doyle  This eBook is for the use of anyone anywhere at no cost and with almost no restrictions whatsoever   You may copy it  give it away or re use it under the terms of the Project Gutenberg License included with this eBook or online at www gutenberg net   Title  The Adventures of Sherlock Holmes  Author  Arthur Conan Doyle  Release Date  November 29  2002  EBook  1661  Last Updated  May 20  2019  Language  English  Charact'"
            ],
            "application/vnd.google.colaboratory.intrinsic+json": {
              "type": "string"
            }
          },
          "metadata": {},
          "execution_count": 9
        }
      ]
    },
    {
      "cell_type": "code",
      "source": [
        "z = []\n",
        "\n",
        "for i in data.split():\n",
        "    if i not in z:\n",
        "        z.append(i)\n",
        "        \n",
        "data = ' '.join(z)\n",
        "data[:500]"
      ],
      "metadata": {
        "colab": {
          "base_uri": "https://localhost:8080/",
          "height": 104
        },
        "id": "3f6rh1BzNhSP",
        "outputId": "38bb9b09-007c-4d20-9a37-155abc04691f"
      },
      "execution_count": 10,
      "outputs": [
        {
          "output_type": "execute_result",
          "data": {
            "text/plain": [
              "\"Project Gutenberg's The Adventures of Sherlock Holmes, by Arthur Conan Doyle This eBook is for the use anyone anywhere at no cost and with almost restrictions whatsoever. You may copy it, give it away or re-use under terms Gutenberg License included this online www.gutenberg.net Title: Holmes Author: Release Date: November 29, 2002 [EBook #1661] Last Updated: May 20, 2019 Language: English Character set encoding: UTF-8 *** START OF THIS PROJECT GUTENBERG EBOOK THE ADVENTURES SHERLOCK HOLMES Prod\""
            ],
            "application/vnd.google.colaboratory.intrinsic+json": {
              "type": "string"
            }
          },
          "metadata": {},
          "execution_count": 10
        }
      ]
    },
    {
      "cell_type": "code",
      "source": [
        "tokenizer = Tokenizer()\n",
        "tokenizer.fit_on_texts([data])\n",
        "\n",
        "# saving the tokenizer for predict function.\n",
        "pickle.dump(tokenizer, open('tokenizer1.pkl', 'wb'))\n",
        "\n",
        "sequence_data = tokenizer.texts_to_sequences([data])[0]\n",
        "sequence_data[:10]"
      ],
      "metadata": {
        "colab": {
          "base_uri": "https://localhost:8080/"
        },
        "id": "6VW0CgcNNlJl",
        "outputId": "7683bcec-f65f-43f5-98f7-a24fc671b59e"
      },
      "execution_count": 11,
      "outputs": [
        {
          "output_type": "execute_result",
          "data": {
            "text/plain": [
              "[838, 3083, 56, 322, 57, 1523, 15, 95, 839, 3084]"
            ]
          },
          "metadata": {},
          "execution_count": 11
        }
      ]
    },
    {
      "cell_type": "code",
      "source": [
        "vocab_size = len(tokenizer.word_index) + 1\n",
        "print(vocab_size)"
      ],
      "metadata": {
        "colab": {
          "base_uri": "https://localhost:8080/"
        },
        "id": "wUwB0gO5NocN",
        "outputId": "ba2758b8-66d4-45fe-9d32-7abf29278db0"
      },
      "execution_count": 12,
      "outputs": [
        {
          "output_type": "stream",
          "name": "stdout",
          "text": [
            "8931\n"
          ]
        }
      ]
    },
    {
      "cell_type": "code",
      "source": [
        "sequences = []\n",
        "\n",
        "for i in range(1, len(sequence_data)):\n",
        "    words = sequence_data[i-1:i+1]\n",
        "    sequences.append(words)\n",
        "    \n",
        "print(\"The Length of sequences are: \", len(sequences))\n",
        "sequences = np.array(sequences)\n",
        "sequences[:10]"
      ],
      "metadata": {
        "colab": {
          "base_uri": "https://localhost:8080/"
        },
        "id": "42kfvy7ONrWT",
        "outputId": "2769ad02-6e63-45b1-d76d-b74407638817"
      },
      "execution_count": 13,
      "outputs": [
        {
          "output_type": "stream",
          "name": "stdout",
          "text": [
            "The Length of sequences are:  17678\n"
          ]
        },
        {
          "output_type": "execute_result",
          "data": {
            "text/plain": [
              "array([[ 838, 3083],\n",
              "       [3083,   56],\n",
              "       [  56,  322],\n",
              "       [ 322,   57],\n",
              "       [  57, 1523],\n",
              "       [1523,   15],\n",
              "       [  15,   95],\n",
              "       [  95,  839],\n",
              "       [ 839, 3084],\n",
              "       [3084, 3085]])"
            ]
          },
          "metadata": {},
          "execution_count": 13
        }
      ]
    },
    {
      "cell_type": "code",
      "source": [
        "X = []\n",
        "y = []\n",
        "\n",
        "for i in sequences:\n",
        "    X.append(i[0])\n",
        "    y.append(i[1])\n",
        "    \n",
        "X = np.array(X)\n",
        "y = np.array(y)"
      ],
      "metadata": {
        "id": "AbPUYPqaNt4q"
      },
      "execution_count": 14,
      "outputs": []
    },
    {
      "cell_type": "code",
      "source": [
        "print(\"The Data is: \", X[:5])\n",
        "print(\"The responses are: \", y[:5])"
      ],
      "metadata": {
        "colab": {
          "base_uri": "https://localhost:8080/"
        },
        "id": "VSdIt-29Nw5A",
        "outputId": "7a42bd4b-52a9-445b-f556-d72012c394b2"
      },
      "execution_count": 15,
      "outputs": [
        {
          "output_type": "stream",
          "name": "stdout",
          "text": [
            "The Data is:  [ 838 3083   56  322   57]\n",
            "The responses are:  [3083   56  322   57 1523]\n"
          ]
        }
      ]
    },
    {
      "cell_type": "code",
      "source": [
        "y = to_categorical(y, num_classes=vocab_size)\n",
        "y[:5]"
      ],
      "metadata": {
        "colab": {
          "base_uri": "https://localhost:8080/"
        },
        "id": "ZDmDAXnfNzia",
        "outputId": "ce394817-3834-4857-be13-44dad9bbfbe2"
      },
      "execution_count": 16,
      "outputs": [
        {
          "output_type": "execute_result",
          "data": {
            "text/plain": [
              "array([[0., 0., 0., ..., 0., 0., 0.],\n",
              "       [0., 0., 0., ..., 0., 0., 0.],\n",
              "       [0., 0., 0., ..., 0., 0., 0.],\n",
              "       [0., 0., 0., ..., 0., 0., 0.],\n",
              "       [0., 0., 0., ..., 0., 0., 0.]], dtype=float32)"
            ]
          },
          "metadata": {},
          "execution_count": 16
        }
      ]
    },
    {
      "cell_type": "code",
      "source": [
        "model = Sequential()\n",
        "model.add(Embedding(vocab_size, 10, input_length=1))\n",
        "model.add(LSTM(1000, return_sequences=True))\n",
        "model.add(LSTM(1000))\n",
        "model.add(Dense(1000, activation=\"relu\"))\n",
        "model.add(Dense(vocab_size, activation=\"softmax\"))"
      ],
      "metadata": {
        "id": "egRMGwUDN2Os"
      },
      "execution_count": 17,
      "outputs": []
    },
    {
      "cell_type": "code",
      "source": [
        "model.summary()"
      ],
      "metadata": {
        "colab": {
          "base_uri": "https://localhost:8080/"
        },
        "id": "95C9hCu9N5Nr",
        "outputId": "c7fcafea-a787-4d26-d891-5f45bb47efff"
      },
      "execution_count": 18,
      "outputs": [
        {
          "output_type": "stream",
          "name": "stdout",
          "text": [
            "Model: \"sequential\"\n",
            "_________________________________________________________________\n",
            " Layer (type)                Output Shape              Param #   \n",
            "=================================================================\n",
            " embedding (Embedding)       (None, 1, 10)             89310     \n",
            "                                                                 \n",
            " lstm (LSTM)                 (None, 1, 1000)           4044000   \n",
            "                                                                 \n",
            " lstm_1 (LSTM)               (None, 1000)              8004000   \n",
            "                                                                 \n",
            " dense (Dense)               (None, 1000)              1001000   \n",
            "                                                                 \n",
            " dense_1 (Dense)             (None, 8931)              8939931   \n",
            "                                                                 \n",
            "=================================================================\n",
            "Total params: 22,078,241\n",
            "Trainable params: 22,078,241\n",
            "Non-trainable params: 0\n",
            "_________________________________________________________________\n"
          ]
        }
      ]
    },
    {
      "cell_type": "code",
      "source": [
        "from tensorflow import keras\n",
        "from keras.utils.vis_utils import plot_model\n",
        "\n",
        "keras.utils.plot_model(model, to_file='model.png', show_layer_names=True)"
      ],
      "metadata": {
        "colab": {
          "base_uri": "https://localhost:8080/",
          "height": 564
        },
        "id": "Pfyi0wxyN7r6",
        "outputId": "585bd29c-8ca5-4ad3-cc43-75ef7120a00f"
      },
      "execution_count": 19,
      "outputs": [
        {
          "output_type": "execute_result",
          "data": {
            "image/png": "[encoded data removed]",
            "text/plain": [
              "<IPython.core.display.Image object>"
            ]
          },
          "metadata": {},
          "execution_count": 19
        }
      ]
    },
    {
      "cell_type": "code",
      "source": [
        "from tensorflow.keras.callbacks import ModelCheckpoint\n",
        "from tensorflow.keras.callbacks import ReduceLROnPlateau\n",
        "from tensorflow.keras.callbacks import TensorBoard\n",
        "\n",
        "checkpoint = ModelCheckpoint(\"nextword1.h5\", monitor='loss', verbose=1,\n",
        "    save_best_only=True, mode='auto')\n",
        "\n",
        "reduce = ReduceLROnPlateau(monitor='loss', factor=0.2, patience=3, min_lr=0.0001, verbose = 1)\n",
        "\n",
        "logdir='logsnextword1'\n",
        "tensorboard_Visualization = TensorBoard(log_dir=logdir)"
      ],
      "metadata": {
        "id": "PFO-zq5TN-su"
      },
      "execution_count": 20,
      "outputs": []
    },
    {
      "cell_type": "code",
      "source": [
        "model.compile(loss=\"categorical_crossentropy\", optimizer=Adam(lr=0.001))"
      ],
      "metadata": {
        "colab": {
          "base_uri": "https://localhost:8080/"
        },
        "id": "D9sh08B8OBfq",
        "outputId": "9aced8af-9281-45d1-9839-cea41eb61219"
      },
      "execution_count": 21,
      "outputs": [
        {
          "output_type": "stream",
          "name": "stderr",
          "text": [
            "WARNING:absl:`lr` is deprecated, please use `learning_rate` instead, or use the legacy optimizer, e.g.,tf.keras.optimizers.legacy.Adam.\n"
          ]
        }
      ]
    },
    {
      "cell_type": "code",
      "source": [
        "model.fit(X, y, epochs=150, batch_size=64, callbacks=[checkpoint, reduce, tensorboard_Visualization])"
      ],
      "metadata": {
        "colab": {
          "base_uri": "https://localhost:8080/"
        },
        "id": "3zTQYHktODnE",
        "outputId": "7b5f166f-ea3b-4f86-9685-5b730d7767fa"
      },
      "execution_count": null,
      "outputs": [
        {
          "output_type": "stream",
          "name": "stdout",
          "text": [
            "Epoch 1/150\n",
            "277/277 [==============================] - ETA: 0s - loss: 8.8753\n",
            "Epoch 1: loss improved from inf to 8.87532, saving model to nextword1.h5\n",
            "277/277 [==============================] - 124s 429ms/step - loss: 8.8753 - lr: 0.0010\n",
            "Epoch 2/150\n",
            "277/277 [==============================] - ETA: 0s - loss: 8.3548\n",
            "Epoch 2: loss improved from 8.87532 to 8.35480, saving model to nextword1.h5\n",
            "277/277 [==============================] - 122s 439ms/step - loss: 8.3548 - lr: 0.0010\n",
            "Epoch 3/150\n",
            "277/277 [==============================] - ETA: 0s - loss: 8.0908\n",
            "Epoch 3: loss improved from 8.35480 to 8.09079, saving model to nextword1.h5\n",
            "277/277 [==============================] - 117s 423ms/step - loss: 8.0908 - lr: 0.0010\n",
            "Epoch 4/150\n",
            "277/277 [==============================] - ETA: 0s - loss: 7.8529\n",
            "Epoch 4: loss improved from 8.09079 to 7.85288, saving model to nextword1.h5\n",
            "277/277 [==============================] - 117s 424ms/step - loss: 7.8529 - lr: 0.0010\n",
            "Epoch 5/150\n",
            "277/277 [==============================] - ETA: 0s - loss: 7.6331\n",
            "Epoch 5: loss improved from 7.85288 to 7.63308, saving model to nextword1.h5\n",
            "277/277 [==============================] - 115s 416ms/step - loss: 7.6331 - lr: 0.0010\n",
            "Epoch 6/150\n",
            "277/277 [==============================] - ETA: 0s - loss: 7.4098\n",
            "Epoch 6: loss improved from 7.63308 to 7.40978, saving model to nextword1.h5\n",
            "277/277 [==============================] - 123s 442ms/step - loss: 7.4098 - lr: 0.0010\n",
            "Epoch 7/150\n",
            "277/277 [==============================] - ETA: 0s - loss: 7.1167\n",
            "Epoch 7: loss improved from 7.40978 to 7.11671, saving model to nextword1.h5\n",
            "277/277 [==============================] - 120s 434ms/step - loss: 7.1167 - lr: 0.0010\n",
            "Epoch 8/150\n",
            "277/277 [==============================] - ETA: 0s - loss: 6.8082\n",
            "Epoch 8: loss improved from 7.11671 to 6.80817, saving model to nextword1.h5\n",
            "277/277 [==============================] - 121s 435ms/step - loss: 6.8082 - lr: 0.0010\n",
            "Epoch 9/150\n",
            "277/277 [==============================] - ETA: 0s - loss: 6.5026\n",
            "Epoch 9: loss improved from 6.80817 to 6.50264, saving model to nextword1.h5\n",
            "277/277 [==============================] - 122s 439ms/step - loss: 6.5026 - lr: 0.0010\n",
            "Epoch 10/150\n",
            "277/277 [==============================] - ETA: 0s - loss: 6.2160\n",
            "Epoch 10: loss improved from 6.50264 to 6.21597, saving model to nextword1.h5\n",
            "277/277 [==============================] - 117s 422ms/step - loss: 6.2160 - lr: 0.0010\n",
            "Epoch 11/150\n",
            "277/277 [==============================] - ETA: 0s - loss: 5.9479\n",
            "Epoch 11: loss improved from 6.21597 to 5.94792, saving model to nextword1.h5\n",
            "277/277 [==============================] - 122s 439ms/step - loss: 5.9479 - lr: 0.0010\n",
            "Epoch 12/150\n",
            "277/277 [==============================] - ETA: 0s - loss: 5.6877\n",
            "Epoch 12: loss improved from 5.94792 to 5.68767, saving model to nextword1.h5\n",
            "277/277 [==============================] - 121s 435ms/step - loss: 5.6877 - lr: 0.0010\n",
            "Epoch 13/150\n",
            "277/277 [==============================] - ETA: 0s - loss: 5.4456\n",
            "Epoch 13: loss improved from 5.68767 to 5.44555, saving model to nextword1.h5\n",
            "277/277 [==============================] - 118s 426ms/step - loss: 5.4456 - lr: 0.0010\n",
            "Epoch 14/150\n",
            "277/277 [==============================] - ETA: 0s - loss: 5.2109\n",
            "Epoch 14: loss improved from 5.44555 to 5.21093, saving model to nextword1.h5\n",
            "277/277 [==============================] - 122s 439ms/step - loss: 5.2109 - lr: 0.0010\n",
            "Epoch 15/150\n",
            "277/277 [==============================] - ETA: 0s - loss: 4.9876\n",
            "Epoch 15: loss improved from 5.21093 to 4.98756, saving model to nextword1.h5\n",
            "277/277 [==============================] - 118s 426ms/step - loss: 4.9876 - lr: 0.0010\n",
            "Epoch 16/150\n",
            "277/277 [==============================] - ETA: 0s - loss: 4.7491\n",
            "Epoch 16: loss improved from 4.98756 to 4.74905, saving model to nextword1.h5\n",
            "277/277 [==============================] - 117s 422ms/step - loss: 4.7491 - lr: 0.0010\n",
            "Epoch 17/150\n",
            "277/277 [==============================] - ETA: 0s - loss: 4.5347\n",
            "Epoch 17: loss improved from 4.74905 to 4.53471, saving model to nextword1.h5\n",
            "277/277 [==============================] - 119s 428ms/step - loss: 4.5347 - lr: 0.0010\n",
            "Epoch 18/150\n",
            "277/277 [==============================] - ETA: 0s - loss: 4.3249\n",
            "Epoch 18: loss improved from 4.53471 to 4.32486, saving model to nextword1.h5\n",
            "277/277 [==============================] - 118s 427ms/step - loss: 4.3249 - lr: 0.0010\n",
            "Epoch 19/150\n",
            "277/277 [==============================] - ETA: 0s - loss: 4.1404\n",
            "Epoch 19: loss improved from 4.32486 to 4.14041, saving model to nextword1.h5\n",
            "277/277 [==============================] - 116s 420ms/step - loss: 4.1404 - lr: 0.0010\n",
            "Epoch 20/150\n",
            "277/277 [==============================] - ETA: 0s - loss: 3.9539\n",
            "Epoch 20: loss improved from 4.14041 to 3.95394, saving model to nextword1.h5\n",
            "277/277 [==============================] - 116s 418ms/step - loss: 3.9539 - lr: 0.0010\n",
            "Epoch 21/150\n",
            "277/277 [==============================] - ETA: 0s - loss: 3.7887\n",
            "Epoch 21: loss improved from 3.95394 to 3.78871, saving model to nextword1.h5\n",
            "277/277 [==============================] - 118s 424ms/step - loss: 3.7887 - lr: 0.0010\n",
            "Epoch 22/150\n",
            "277/277 [==============================] - ETA: 0s - loss: 3.6209\n",
            "Epoch 22: loss improved from 3.78871 to 3.62089, saving model to nextword1.h5\n",
            "277/277 [==============================] - 118s 427ms/step - loss: 3.6209 - lr: 0.0010\n",
            "Epoch 23/150\n",
            "277/277 [==============================] - ETA: 0s - loss: 3.4649\n",
            "Epoch 23: loss improved from 3.62089 to 3.46493, saving model to nextword1.h5\n",
            "277/277 [==============================] - 117s 424ms/step - loss: 3.4649 - lr: 0.0010\n",
            "Epoch 24/150\n",
            "277/277 [==============================] - ETA: 0s - loss: 3.3249\n",
            "Epoch 24: loss improved from 3.46493 to 3.32489, saving model to nextword1.h5\n",
            "277/277 [==============================] - 121s 435ms/step - loss: 3.3249 - lr: 0.0010\n",
            "Epoch 25/150\n",
            "277/277 [==============================] - ETA: 0s - loss: 3.1892\n",
            "Epoch 25: loss improved from 3.32489 to 3.18924, saving model to nextword1.h5\n",
            "277/277 [==============================] - 118s 425ms/step - loss: 3.1892 - lr: 0.0010\n",
            "Epoch 26/150\n",
            "198/277 [====================>.........] - ETA: 33s - loss: 3.0120"
          ]
        }
      ]
    },
    {
      "cell_type": "code",
      "source": [
        "path = '1661-0.txt'\n",
        "text = open(path).read().lower()\n",
        "print('length of the corpus is: :', len(text))"
      ],
      "metadata": {
        "id": "k_Gal2_XcK62",
        "outputId": "896225a2-3b2f-4c4f-9e98-35f49094b514",
        "colab": {
          "base_uri": "https://localhost:8080/"
        }
      },
      "execution_count": 12,
      "outputs": [
        {
          "output_type": "stream",
          "name": "stdout",
          "text": [
            "length of the corpus is: : 581888\n"
          ]
        }
      ]
    },
    {
      "cell_type": "code",
      "source": [
        "tokenizer = RegexpTokenizer(r'w+')\n",
        "words = tokenizer.tokenize(text)"
      ],
      "metadata": {
        "id": "6VLKad5PcIBV"
      },
      "execution_count": 13,
      "outputs": []
    },
    {
      "cell_type": "markdown",
      "source": [
        "Getting unique words: We get all the unique words and we require a dictionary with each word in the data within the list of unique words as the key and its significant portions as value."
      ],
      "metadata": {
        "id": "_56XfH9xdqLS"
      }
    },
    {
      "cell_type": "code",
      "source": [
        "unique_words = np.unique(words)\n",
        "unique_word_index = dict((c, i) for i, c in enumerate(unique_words))"
      ],
      "metadata": {
        "id": "t1FszzEncFUT"
      },
      "execution_count": 14,
      "outputs": []
    },
    {
      "cell_type": "markdown",
      "source": [
        "Feature Engineering: Feature engineering will make the words into numerical representation so that it is easy to process them."
      ],
      "metadata": {
        "id": "n_crKITQdniw"
      }
    },
    {
      "cell_type": "code",
      "source": [
        "LENGTH_WORD = 5\n",
        "next_words = []\n",
        "prev_words = []\n",
        "for j in range(len(words) - LENGTH_WORD):\n",
        "     prev_words.append(words[j:j + LENGTH_WORD])\n",
        "     next_words.append(words[j + LENGTH_WORD])\n",
        "print(prev_words[0])\n",
        "print(next_words[0])"
      ],
      "metadata": {
        "id": "m6kCvPqjcACJ",
        "outputId": "d19f2b78-371d-46c7-c9ad-d9633ddf169f",
        "colab": {
          "base_uri": "https://localhost:8080/"
        }
      },
      "execution_count": 15,
      "outputs": [
        {
          "output_type": "stream",
          "name": "stdout",
          "text": [
            "['w', 'w', 'w', 'w', 'w']\n",
            "www\n"
          ]
        }
      ]
    },
    {
      "cell_type": "markdown",
      "source": [
        "Storing features and labels: X will be used to get the features and Y to get the labels associated with them."
      ],
      "metadata": {
        "id": "Q_O8M1hXdkw2"
      }
    },
    {
      "cell_type": "code",
      "source": [
        "X = np.zeros((len(prev_words), LENGTH_WORD, len(unique_words)), dtype=bool)\n",
        "Y = np.zeros((len(next_words), len(unique_words)), dtype=bool)\n",
        "for i, each_words in enumerate(prev_words):\n",
        "   for j, each_word in enumerate(each_words):\n",
        "        X[i, j, unique_word_index[each_word]] = 1\n",
        "   Y[i, unique_word_index[next_words[i]]] = 1"
      ],
      "metadata": {
        "id": "Qt5z8TbYb85E"
      },
      "execution_count": 16,
      "outputs": []
    },
    {
      "cell_type": "markdown",
      "source": [
        "Building our model: We can see that we have built an LSTM model and used a softmax activation at the end to get few specific words predicted by the model."
      ],
      "metadata": {
        "id": "DN8rzpSddgOR"
      }
    },
    {
      "cell_type": "code",
      "source": [
        "model = Sequential()\n",
        "model.add(LSTM(128, input_shape=(LENGTH_WORD, len(unique_words))))\n",
        "model.add(Dense(len(unique_words)))\n",
        "model.add(Activation('softmax'))"
      ],
      "metadata": {
        "id": "vLRkr_aVb4PW"
      },
      "execution_count": 17,
      "outputs": []
    },
    {
      "cell_type": "code",
      "source": [
        "optimizer = RMSprop(lr=0.01)\n",
        "model.compile(loss='categorical_crossentropy', optimizer=optimizer, metrics=['accuracy'])\n",
        "history = model.fit(X, Y, validation_split=0.05, batch_size=128, epochs=2, shuffle=True).history\n",
        "model.save('next_word_model.h5')\n",
        "pickle.dump(history, open(\"history.p\", \"wb\"))\n",
        "model = load_model('next_word_model.h5')\n",
        "history = pickle.load(open(\"history.p\", \"rb\"))\n",
        "plt.plot(history['accuracy'])\n",
        "plt.plot(history['val_accuracy'])\n",
        "plt.title('model accuracy')\n",
        "plt.ylabel('accuracy')\n",
        "plt.xlabel('epoch')\n",
        "plt.legend(['train', 'test'], loc='upper left')"
      ],
      "metadata": {
        "colab": {
          "base_uri": "https://localhost:8080/",
          "height": 402
        },
        "id": "QGgUHX-hOGeo",
        "outputId": "1cb94591-640b-40b2-fbf6-ee1bfe620c11"
      },
      "execution_count": 18,
      "outputs": [
        {
          "output_type": "stream",
          "name": "stdout",
          "text": [
            "Epoch 1/2\n",
            "86/86 [==============================] - 6s 30ms/step - loss: 0.0134 - accuracy: 0.9999 - val_loss: 0.1436 - val_accuracy: 0.9844\n",
            "Epoch 2/2\n",
            "86/86 [==============================] - 2s 19ms/step - loss: 0.0023 - accuracy: 0.9999 - val_loss: 0.2024 - val_accuracy: 0.9844\n"
          ]
        },
        {
          "output_type": "execute_result",
          "data": {
            "text/plain": [
              "<matplotlib.legend.Legend at 0x7f070f718070>"
            ]
          },
          "metadata": {},
          "execution_count": 18
        },
        {
          "output_type": "display_data",
          "data": {
            "text/plain": [
              "<Figure size 432x288 with 1 Axes>"
            ],
            "image/png": "[encoded data removed]"
          },
          "metadata": {
            "needs_background": "light"
          }
        }
      ]
    },
    {
      "cell_type": "code",
      "source": [
        "plt.plot(history['loss'])\n",
        "plt.plot(history['val_loss'])\n",
        "plt.title('model loss')\n",
        "plt.ylabel('loss')\n",
        "plt.xlabel('epoch')\n",
        "plt.legend(['train', 'test'], loc='upper left')"
      ],
      "metadata": {
        "colab": {
          "base_uri": "https://localhost:8080/",
          "height": 312
        },
        "id": "jpnuhQr_ONXU",
        "outputId": "d51b78b0-9f6e-4449-9520-e613b1729d9d"
      },
      "execution_count": 19,
      "outputs": [
        {
          "output_type": "execute_result",
          "data": {
            "text/plain": [
              "<matplotlib.legend.Legend at 0x7f070f7fab80>"
            ]
          },
          "metadata": {},
          "execution_count": 19
        },
        {
          "output_type": "display_data",
          "data": {
            "text/plain": [
              "<Figure size 432x288 with 1 Axes>"
            ],
            "image/png": "[encoded data removed]"
          },
          "metadata": {
            "needs_background": "light"
          }
        }
      ]
    },
    {
      "cell_type": "code",
      "source": [
        "def prepare_input(text):\n",
        "    x = np.zeros((1, LENGTH_WORD, len(words)))\n",
        "    for t, char in enumerate(text):\n",
        "       x[0, t, unique_word_index[char]] = 1.\n",
        "    return x\n",
        "def sample(preds, top_n=3):\n",
        "   preds = np.asarray(preds).astype('float64')\n",
        "   preds = np.log(preds)\n",
        "   exp_preds = np.exp(preds)\n",
        "   preds = exp_preds / np.sum(exp_preds)\n",
        "   return heapq.nlargest(top_n, range(len(preds)), preds.take)\n",
        "def predict_completions(text, n=3):\n",
        "\n",
        "    x = prepare_input(text)\n",
        "\n",
        "    preds = model.predict(x, verbose=0)[0]\n",
        "\n",
        "    next_indices = sample(preds, n)\n",
        "\n",
        "    return [unique_word_index[idx] + predict_completions(text[1:] + unique_word_index[idx]) for idx in next_indices]"
      ],
      "metadata": {
        "id": "f2YPXpR7cmK1"
      },
      "execution_count": 20,
      "outputs": []
    },
    {
      "cell_type": "code",
      "source": [],
      "metadata": {
        "id": "c0YVUu3Ad1-0"
      },
      "execution_count": null,
      "outputs": []
    }
  ]
}