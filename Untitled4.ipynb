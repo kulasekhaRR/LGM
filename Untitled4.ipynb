{
  "nbformat": 4,
  "nbformat_minor": 0,
  "metadata": {
    "colab": {
      "provenance": [],
      "authorship_tag": "ABX9TyNvzn5dggq4704uvzRkooqQ",
      "include_colab_link": true
    },
    "kernelspec": {
      "name": "python3",
      "display_name": "Python 3"
    },
    "language_info": {
      "name": "python"
    }
  },
  "cells": [
    {
      "cell_type": "markdown",
      "metadata": {
        "id": "view-in-github",
        "colab_type": "text"
      },
      "source": [
        "<a href=\"https://colab.research.google.com/github/kulasekhaRR/LGM/blob/main/Untitled4.ipynb\" target=\"_parent\"><img src=\"https://colab.research.google.com/assets/colab-badge.svg\" alt=\"Open In Colab\"/></a>"
      ]
    },
    {
      "cell_type": "code",
      "execution_count": 1,
      "metadata": {
        "id": "yzTbRqZqVqbD"
      },
      "outputs": [],
      "source": [
        "import numpy as np\n",
        "\n",
        "import heapq\n",
        "\n",
        "import matplotlib.pyplot as plt\n",
        "\n",
        "from nltk.tokenize import RegexpTokenizer\n",
        "\n",
        "from keras.models import Sequential, load_model\n",
        "\n",
        "from keras.layers.core import Dense, Activation\n",
        "\n",
        "from keras.layers import LSTM\n",
        "\n",
        "import pickle\n",
        "\n",
        "from keras.optimizers import RMSprop"
      ]
    },
    {
      "cell_type": "code",
      "source": [
        "path = '1661-0.txt'\n",
        "text = open(path).read().lower()\n",
        "print('length of the corpus is: :', len(text))"
      ],
      "metadata": {
        "colab": {
          "base_uri": "https://localhost:8080/"
        },
        "id": "uCuYsfAqV9Rj",
        "outputId": "2eaaa84f-c12e-49ef-ccbd-eacdc3766ec2"
      },
      "execution_count": 2,
      "outputs": [
        {
          "output_type": "stream",
          "name": "stdout",
          "text": [
            "length of the corpus is: : 581888\n"
          ]
        }
      ]
    },
    {
      "cell_type": "code",
      "source": [
        "tokenizer = RegexpTokenizer(r'w+')\n",
        "words = tokenizer.tokenize(text)"
      ],
      "metadata": {
        "id": "sl0KpBCuWFFs"
      },
      "execution_count": 3,
      "outputs": []
    },
    {
      "cell_type": "markdown",
      "source": [
        "4. Getting unique words:\n",
        "We get all the unique words and we require a dictionary with each word in the data within the list of unique words as the key and its significant portions as value."
      ],
      "metadata": {
        "id": "iVmKhMnmdD-u"
      }
    },
    {
      "cell_type": "code",
      "source": [
        "unique_words = np.unique(words)\n",
        "unique_word_index = dict((c, i) for i, c in enumerate(unique_words))"
      ],
      "metadata": {
        "id": "IptCaPtwWIdT"
      },
      "execution_count": 4,
      "outputs": []
    },
    {
      "cell_type": "markdown",
      "source": [],
      "metadata": {
        "id": "Trwml4_FapnY"
      }
    },
    {
      "cell_type": "markdown",
      "source": [
        "5. Feature Engineering:\n",
        "Feature engineering will make the words into numerical representation so that it is easy to process them."
      ],
      "metadata": {
        "id": "DupoSLBKc-ol"
      }
    },
    {
      "cell_type": "code",
      "source": [
        "LENGTH_WORD = 5\n",
        "next_words = []\n",
        "prev_words = []\n",
        "for j in range(len(words) - LENGTH_WORD):\n",
        "     prev_words.append(words[j:j + LENGTH_WORD])\n",
        "     next_words.append(words[j + LENGTH_WORD])\n",
        "print(prev_words[0])\n",
        "print(next_words[0])"
      ],
      "metadata": {
        "colab": {
          "base_uri": "https://localhost:8080/"
        },
        "id": "0yFUOuTOWLcG",
        "outputId": "1d6406a4-98b7-4893-f4c4-732ef0fe9f96"
      },
      "execution_count": 5,
      "outputs": [
        {
          "output_type": "stream",
          "name": "stdout",
          "text": [
            "['w', 'w', 'w', 'w', 'w']\n",
            "www\n"
          ]
        }
      ]
    },
    {
      "cell_type": "markdown",
      "source": [
        "6. Storing features and labels:\n",
        "X will be used to get the features and Y to get the labels associated with them."
      ],
      "metadata": {
        "id": "eeffACDTc5jB"
      }
    },
    {
      "cell_type": "code",
      "source": [
        "X = np.zeros((len(prev_words), LENGTH_WORD, len(unique_words)), dtype=bool)\n",
        "Y = np.zeros((len(next_words), len(unique_words)), dtype=bool)\n",
        "for i, each_words in enumerate(prev_words):\n",
        "   for j, each_word in enumerate(each_words):\n",
        "        X[i, j, unique_word_index[each_word]] = 1\n",
        "   Y[i, unique_word_index[next_words[i]]] = 1"
      ],
      "metadata": {
        "id": "1ubwsSR4WOTF"
      },
      "execution_count": 8,
      "outputs": []
    },
    {
      "cell_type": "markdown",
      "source": [
        "7. Building our model:\n",
        "We can see that we have built an LSTM model and used a softmax activation at the end to get few specific words predicted by the model."
      ],
      "metadata": {
        "id": "2ndVm-tac0a5"
      }
    },
    {
      "cell_type": "code",
      "source": [
        "model = Sequential()\n",
        "model.add(LSTM(128, input_shape=(LENGTH_WORD, len(unique_words))))\n",
        "model.add(Dense(len(unique_words)))\n",
        "model.add(Activation('softmax'))"
      ],
      "metadata": {
        "id": "MXfNHzm0WRK8"
      },
      "execution_count": 9,
      "outputs": []
    },
    {
      "cell_type": "code",
      "source": [
        "optimizer = RMSprop(lr=0.01)\n",
        "model.compile(loss='categorical_crossentropy', optimizer=optimizer, metrics=['accuracy'])\n",
        "history = model.fit(X, Y, validation_split=0.05, batch_size=128, epochs=2, shuffle=True).history"
      ],
      "metadata": {
        "colab": {
          "base_uri": "https://localhost:8080/"
        },
        "id": "eHbV5gEdWVLG",
        "outputId": "137617a6-ce1b-40af-ed06-c5142f532796"
      },
      "execution_count": 10,
      "outputs": [
        {
          "output_type": "stream",
          "name": "stderr",
          "text": [
            "/usr/local/lib/python3.8/dist-packages/keras/optimizers/optimizer_v2/rmsprop.py:143: UserWarning: The `lr` argument is deprecated, use `learning_rate` instead.\n",
            "  super().__init__(name, **kwargs)\n"
          ]
        },
        {
          "output_type": "stream",
          "name": "stdout",
          "text": [
            "Epoch 1/2\n",
            "86/86 [==============================] - 6s 29ms/step - loss: 0.0114 - accuracy: 0.9999 - val_loss: 0.2278 - val_accuracy: 0.9844\n",
            "Epoch 2/2\n",
            "86/86 [==============================] - 3s 36ms/step - loss: 0.0033 - accuracy: 0.9999 - val_loss: 0.2364 - val_accuracy: 0.9844\n"
          ]
        }
      ]
    },
    {
      "cell_type": "code",
      "source": [
        "model.save('next_word_model.h5')\n",
        "pickle.dump(history, open(\"history.p\", \"wb\"))\n",
        "model = load_model('next_word_model.h5')\n",
        "history = pickle.load(open(\"history.p\", \"rb\"))"
      ],
      "metadata": {
        "id": "4xZijnXjW83o"
      },
      "execution_count": 11,
      "outputs": []
    },
    {
      "cell_type": "code",
      "source": [
        "plt.plot(history['accuracy'])\n",
        "plt.plot(history['val_accuracy'])\n",
        "plt.title('model accuracy')\n",
        "plt.ylabel('accuracy')\n",
        "plt.xlabel('epoch')\n",
        "plt.legend(['train', 'test'], loc='upper left')"
      ],
      "metadata": {
        "colab": {
          "base_uri": "https://localhost:8080/",
          "height": 312
        },
        "id": "lPzx9A1pXAC6",
        "outputId": "7fe88dad-864e-48a6-e3cb-70c3255019a9"
      },
      "execution_count": 15,
      "outputs": [
        {
          "output_type": "execute_result",
          "data": {
            "text/plain": [
              "<matplotlib.legend.Legend at 0x7f5018cdbf40>"
            ]
          },
          "metadata": {},
          "execution_count": 15
        },
        {
          "output_type": "display_data",
          "data": {
            "text/plain": [
              "<Figure size 432x288 with 1 Axes>"
            ],
            "image/png": "[encoded data removed]"
          },
          "metadata": {
            "needs_background": "light"
          }
        }
      ]
    },
    {
      "cell_type": "code",
      "source": [
        "plt.plot(history['loss'])\n",
        "plt.plot(history['val_loss'])\n",
        "plt.title('model loss')\n",
        "plt.ylabel('loss')\n",
        "plt.xlabel('epoch')\n",
        "plt.legend(['train', 'test'], loc='upper left')"
      ],
      "metadata": {
        "colab": {
          "base_uri": "https://localhost:8080/",
          "height": 312
        },
        "id": "Cr3amJ_PXDJ8",
        "outputId": "0cc07937-22eb-440d-a585-0e45f298c6c1"
      },
      "execution_count": 13,
      "outputs": [
        {
          "output_type": "execute_result",
          "data": {
            "text/plain": [
              "<matplotlib.legend.Legend at 0x7f50219cb6a0>"
            ]
          },
          "metadata": {},
          "execution_count": 13
        },
        {
          "output_type": "display_data",
          "data": {
            "text/plain": [
              "<Figure size 432x288 with 1 Axes>"
            ],
            "image/png": "[encoded data removed]"
          },
          "metadata": {
            "needs_background": "light"
          }
        }
      ]
    },
    {
      "cell_type": "code",
      "source": [
        "def prepare_input(text):\n",
        "    x = np.zeros((1, LENGTH_WORD, len(words)))\n",
        "    for t, char in enumerate(text):\n",
        "       x[0, t, unique_word_index[char]] = 1.\n",
        "    return x\n",
        "def sample(preds, top_n=3):\n",
        "   preds = np.asarray(preds).astype('float64')\n",
        "   preds = np.log(preds)\n",
        "   exp_preds = np.exp(preds)\n",
        "   preds = exp_preds / np.sum(exp_preds)\n",
        "   return heapq.nlargest(top_n, range(len(preds)), preds.take)\n",
        "def predict_completions(text, n=3):\n",
        "\n",
        "    x = prepare_input(text)\n",
        "\n",
        "    preds = model.predict(x, verbose=0)[0]\n",
        "\n",
        "    next_indices = sample(preds, n)\n",
        "\n",
        "    return [unique_word_index[idx] + predict_completions(text[1:] + unique_word_index[idx]) for idx in next_indices]"
      ],
      "metadata": {
        "id": "IMzlbeu9XGs6"
      },
      "execution_count": 20,
      "outputs": []
    },
    {
      "cell_type": "code",
      "source": [],
      "metadata": {
        "id": "rbhnJKI6Xlz0"
      },
      "execution_count": 21,
      "outputs": []
    },
    {
      "cell_type": "code",
      "source": [],
      "metadata": {
        "id": "_kXs-W53XrVM"
      },
      "execution_count": null,
      "outputs": []
    }
  ]
}